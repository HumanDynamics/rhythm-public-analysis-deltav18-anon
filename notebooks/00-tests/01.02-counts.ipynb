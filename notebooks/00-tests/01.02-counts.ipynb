{
 "cells": [
  {
   "cell_type": "markdown",
   "metadata": {},
   "source": [
    "Show basic counts. While loading the records, we limit the period to reduce loading and processing time"
   ]
  },
  {
   "cell_type": "code",
   "execution_count": 1,
   "metadata": {
    "ExecuteTime": {
     "end_time": "2019-04-29T22:30:19.856490Z",
     "start_time": "2019-04-29T22:30:17.903875Z"
    }
   },
   "outputs": [],
   "source": [
    "from __future__ import absolute_import, division, print_function\n",
    "from multiprocessing import Pool\n",
    "\n",
    "import pandas as pd\n",
    "import seaborn as sns\n",
    "import matplotlib.pyplot as plt"
   ]
  },
  {
   "cell_type": "markdown",
   "metadata": {},
   "source": [
    "# Config and load"
   ]
  },
  {
   "cell_type": "code",
   "execution_count": 2,
   "metadata": {
    "ExecuteTime": {
     "end_time": "2019-04-29T22:30:21.696117Z",
     "start_time": "2019-04-29T22:30:21.640694Z"
    }
   },
   "outputs": [],
   "source": [
    "import sys\n",
    "sys.path.insert(0, '../../src/data/')\n",
    "\n",
    "from config import *"
   ]
  },
  {
   "cell_type": "code",
   "execution_count": 3,
   "metadata": {
    "ExecuteTime": {
     "end_time": "2019-04-29T22:30:29.414873Z",
     "start_time": "2019-04-29T22:30:29.369617Z"
    }
   },
   "outputs": [],
   "source": [
    "#Preparing the members and beacons metadata\n",
    "members_metadata = pd.read_csv(members_metadata_path).set_index('member')\n",
    "beacons_metadata = pd.read_csv(beacons_metadata_path).set_index('beacon')"
   ]
  },
  {
   "cell_type": "code",
   "execution_count": 4,
   "metadata": {
    "ExecuteTime": {
     "end_time": "2019-04-29T22:30:29.724797Z",
     "start_time": "2019-04-29T22:30:29.720636Z"
    }
   },
   "outputs": [],
   "source": [
    "bin_size = 15 #minutes"
   ]
  },
  {
   "cell_type": "markdown",
   "metadata": {},
   "source": [
    "# Counts"
   ]
  },
  {
   "cell_type": "code",
   "execution_count": 5,
   "metadata": {
    "ExecuteTime": {
     "end_time": "2019-04-29T22:30:30.316656Z",
     "start_time": "2019-04-29T22:30:30.311967Z"
    }
   },
   "outputs": [],
   "source": [
    "# Set period of interest\n",
    "period_start  = '2018-06-19 00:00:00-04:00'\n",
    "period_end    = '2018-06-19 23:59:30-04:00'\n",
    "period_cond = \"datetime >= period_start & datetime < period_end\""
   ]
  },
  {
   "cell_type": "markdown",
   "metadata": {},
   "source": [
    "## Count records\n",
    "Show the number of records colleted by the system. Uses \"dirty\" data (before filtering)"
   ]
  },
  {
   "cell_type": "code",
   "execution_count": 6,
   "metadata": {
    "ExecuteTime": {
     "end_time": "2019-04-29T22:30:44.493819Z",
     "start_time": "2019-04-29T22:30:30.765964Z"
    }
   },
   "outputs": [],
   "source": [
    "m2badge_dirty = pd.read_hdf(dirty_store_path,'proximity/member_to_badge', where = period_cond, data_columns= True)"
   ]
  },
  {
   "cell_type": "code",
   "execution_count": 7,
   "metadata": {
    "ExecuteTime": {
     "end_time": "2019-04-29T22:31:26.925964Z",
     "start_time": "2019-04-29T22:30:44.498220Z"
    }
   },
   "outputs": [],
   "source": [
    "df = m2badge_dirty.reset_index().set_index('datetime') # Removes the level \"member\" from index, keeps time\n",
    "df = df.groupby([\n",
    "    pd.Grouper(level=0, freq='15min') # level 0 should be datetime\n",
    "])[['count']].count()\n",
    "\n",
    "df = df.resample('15min').asfreq() # ensure we have values for every 15 minutes interval\n",
    "df = df.fillna(value=0.0)\n",
    "\n",
    "m2badge_dirty_totals = df.copy()"
   ]
  },
  {
   "cell_type": "code",
   "execution_count": 8,
   "metadata": {
    "ExecuteTime": {
     "end_time": "2019-04-29T22:31:27.723013Z",
     "start_time": "2019-04-29T22:31:26.929893Z"
    }
   },
   "outputs": [
    {
     "name": "stderr",
     "output_type": "stream",
     "text": [
      "2019-04-29 18:31:27,041 - DEBUG - findfont: Matching :family=sans-serif:style=normal:variant=normal:weight=normal:stretch=normal:size=10.0 to DejaVu Sans (u'/home/orenled/Envs/rhythm-private-analysis-deltav17/local/lib/python2.7/site-packages/matplotlib/mpl-data/fonts/ttf/DejaVuSans.ttf') with score of 0.050000\n"
     ]
    },
    {
     "data": {
      "text/plain": [
       "Text(0.5,1,'Number of raw records')"
      ]
     },
     "execution_count": 8,
     "metadata": {},
     "output_type": "execute_result"
    },
    {
     "name": "stderr",
     "output_type": "stream",
     "text": [
      "2019-04-29 18:31:27,349 - DEBUG - findfont: Matching :family=sans-serif:style=normal:variant=normal:weight=normal:stretch=normal:size=12.0 to DejaVu Sans (u'/home/orenled/Envs/rhythm-private-analysis-deltav17/local/lib/python2.7/site-packages/matplotlib/mpl-data/fonts/ttf/DejaVuSans.ttf') with score of 0.050000\n"
     ]
    },
    {
     "data": {
      "image/png": "[encoded data removed]",
      "text/plain": [
       "<Figure size 432x288 with 1 Axes>"
      ]
     },
     "metadata": {
      "needs_background": "light"
     },
     "output_type": "display_data"
    }
   ],
   "source": [
    "ax = m2badge_dirty_totals.plot()\n",
    "plt.tight_layout()\n",
    "ax.set_title(\"Number of raw records\")"
   ]
  },
  {
   "cell_type": "markdown",
   "metadata": {},
   "source": [
    "## Count active badges\n",
    "Using the badge-to-beacon dataset since it's smaller"
   ]
  },
  {
   "cell_type": "code",
   "execution_count": 9,
   "metadata": {
    "ExecuteTime": {
     "end_time": "2019-04-29T22:31:32.110733Z",
     "start_time": "2019-04-29T22:31:27.726889Z"
    }
   },
   "outputs": [],
   "source": [
    "m2b_clean = pd.read_hdf(clean_store_path,'proximity/member_to_beacon', where = period_cond, data_columns= True)"
   ]
  },
  {
   "cell_type": "code",
   "execution_count": 10,
   "metadata": {
    "ExecuteTime": {
     "end_time": "2019-04-29T22:31:46.299556Z",
     "start_time": "2019-04-29T22:31:32.115104Z"
    }
   },
   "outputs": [],
   "source": [
    "df = m2b_clean.reset_index().set_index('datetime') # Removes the level \"member\" from index, keeps time\n",
    "df = df.groupby([\n",
    "    pd.Grouper(level=0, freq='15min') # level 0 should be datetime\n",
    "]).member.nunique()\n",
    "\n",
    "df = df.resample('15min').asfreq() # ensure we have values for every 15 minutes interval\n",
    "m2b_active_badges = df.fillna(value=0.0)"
   ]
  },
  {
   "cell_type": "code",
   "execution_count": 11,
   "metadata": {
    "ExecuteTime": {
     "end_time": "2019-04-29T22:31:46.708650Z",
     "start_time": "2019-04-29T22:31:46.303791Z"
    }
   },
   "outputs": [
    {
     "data": {
      "text/plain": [
       "Text(0.5,1,'Number of badges seen by the system')"
      ]
     },
     "execution_count": 11,
     "metadata": {},
     "output_type": "execute_result"
    },
    {
     "data": {
      "image/png": "[encoded data removed]",
      "text/plain": [
       "<Figure size 432x288 with 1 Axes>"
      ]
     },
     "metadata": {
      "needs_background": "light"
     },
     "output_type": "display_data"
    }
   ],
   "source": [
    "ax = m2b_active_badges.plot()\n",
    "ax.set_ylim([0,120])\n",
    "plt.tight_layout()\n",
    "ax.set_title(\"Number of badges seen by the system\")"
   ]
  },
  {
   "cell_type": "markdown",
   "metadata": {},
   "source": [
    "## Average RSSI - to other members\n",
    "Shows the average distance between two badges. We use the member-to-member dataset, which includes badges taht were left on the board. Therefore, we expect to see the average distance decreases during the day (most badges are taken off the board) and then increases towards the end of the work day."
   ]
  },
  {
   "cell_type": "code",
   "execution_count": 12,
   "metadata": {
    "ExecuteTime": {
     "end_time": "2019-04-29T22:31:53.141744Z",
     "start_time": "2019-04-29T22:31:46.712761Z"
    }
   },
   "outputs": [],
   "source": [
    "m2m_clean = pd.read_hdf(clean_store_path,'proximity/member_to_member', where = period_cond, data_columns= True)"
   ]
  },
  {
   "cell_type": "code",
   "execution_count": 13,
   "metadata": {
    "ExecuteTime": {
     "end_time": "2019-04-29T22:32:09.998435Z",
     "start_time": "2019-04-29T22:31:53.146290Z"
    }
   },
   "outputs": [],
   "source": [
    "df = m2m_clean.reset_index().set_index('datetime') # Removes the level \"member\" from index, keeps time\n",
    "df = df.groupby([\n",
    "    pd.Grouper(level=0, freq='15min') # level 0 should be datetime\n",
    "]).rssi_max.mean()\n",
    "#[['member']].count()\n",
    "\n",
    "df = df.resample('15min').asfreq() # ensure we have values for every 15 minutes interval\n",
    "df = df.fillna(value=0.0)\n",
    "\n",
    "m2m_mean_rssi = df.copy()"
   ]
  },
  {
   "cell_type": "code",
   "execution_count": 14,
   "metadata": {
    "ExecuteTime": {
     "end_time": "2019-04-29T22:32:10.498887Z",
     "start_time": "2019-04-29T22:32:10.002613Z"
    }
   },
   "outputs": [
    {
     "data": {
      "text/plain": [
       "Text(0.5,1,'Average signal strength between badges (including badges on the board)')"
      ]
     },
     "execution_count": 14,
     "metadata": {},
     "output_type": "execute_result"
    },
    {
     "data": {
      "image/png": "[encoded data removed]",
      "text/plain": [
       "<Figure size 432x288 with 1 Axes>"
      ]
     },
     "metadata": {
      "needs_background": "light"
     },
     "output_type": "display_data"
    }
   ],
   "source": [
    "ax = m2m_mean_rssi.plot()\n",
    "plt.tight_layout()\n",
    "ax.set_title(\"Average signal strength between badges (including badges on the board)\")"
   ]
  },
  {
   "cell_type": "code",
   "execution_count": null,
   "metadata": {},
   "outputs": [],
   "source": []
  }
 ],
 "metadata": {
  "kernelspec": {
   "display_name": "Python 2",
   "language": "python",
   "name": "python2"
  },
  "language_info": {
   "codemirror_mode": {
    "name": "ipython",
    "version": 2
   },
   "file_extension": ".py",
   "mimetype": "text/x-python",
   "name": "python",
   "nbconvert_exporter": "python",
   "pygments_lexer": "ipython2",
   "version": "2.7.15"
  },
  "toc": {
   "base_numbering": 1,
   "nav_menu": {},
   "number_sections": true,
   "sideBar": true,
   "skip_h1_title": false,
   "title_cell": "Table of Contents",
   "title_sidebar": "Contents",
   "toc_cell": false,
   "toc_position": {},
   "toc_section_display": true,
   "toc_window_display": true
  }
 },
 "nbformat": 4,
 "nbformat_minor": 2
}
