{
 "cells": [
  {
   "cell_type": "markdown",
   "metadata": {},
   "source": [
    "Code for cleanning and preparing the entry surveys data"
   ]
  },
  {
   "cell_type": "code",
   "execution_count": 36,
   "metadata": {
    "ExecuteTime": {
     "end_time": "2019-01-18T18:20:43.981606Z",
     "start_time": "2019-01-18T18:20:43.975956Z"
    }
   },
   "outputs": [],
   "source": [
    "from __future__ import absolute_import, division, print_function\n",
    "import datetime\n",
    "import time\n",
    "import os\n",
    "\n",
    "import pandas as pd"
   ]
  },
  {
   "cell_type": "code",
   "execution_count": 37,
   "metadata": {
    "ExecuteTime": {
     "end_time": "2019-01-18T18:20:44.270116Z",
     "start_time": "2019-01-18T18:20:44.265245Z"
    }
   },
   "outputs": [],
   "source": [
    "import sys\n",
    "sys.path.insert(0, '../../src/data/')\n",
    "\n",
    "from config import *"
   ]
  },
  {
   "cell_type": "markdown",
   "metadata": {},
   "source": [
    "# Config"
   ]
  },
  {
   "cell_type": "code",
   "execution_count": 38,
   "metadata": {
    "ExecuteTime": {
     "end_time": "2019-01-18T18:20:44.782983Z",
     "start_time": "2019-01-18T18:20:44.767030Z"
    }
   },
   "outputs": [
    {
     "name": "stderr",
     "output_type": "stream",
     "text": [
      "2019-01-18 13:20:44,777 - DEBUG - backend module://ipykernel.pylab.backend_inline version unknown\n"
     ]
    }
   ],
   "source": [
    "# Matplotlib for additional customization\n",
    "from matplotlib import pyplot as plt\n",
    "%matplotlib inline\n",
    "\n",
    "# Seaborn for plotting and styling\n",
    "import seaborn as sns"
   ]
  },
  {
   "cell_type": "markdown",
   "metadata": {},
   "source": [
    "# read"
   ]
  },
  {
   "cell_type": "code",
   "execution_count": 39,
   "metadata": {
    "ExecuteTime": {
     "end_time": "2019-01-18T18:20:45.339070Z",
     "start_time": "2019-01-18T18:20:45.323648Z"
    }
   },
   "outputs": [],
   "source": [
    "participants_entry_survey_data_anon = pd.read_hdf(surveys_anon_store_path, 'entry/participants_entry_survey_data_anon')"
   ]
  },
  {
   "cell_type": "code",
   "execution_count": 40,
   "metadata": {
    "ExecuteTime": {
     "end_time": "2019-01-18T18:20:45.664705Z",
     "start_time": "2019-01-18T18:20:45.624456Z"
    }
   },
   "outputs": [
    {
     "data": {
      "text/html": [
       "<div>\n",
       "<style>\n",
       "    .dataframe thead tr:only-child th {\n",
       "        text-align: right;\n",
       "    }\n",
       "\n",
       "    .dataframe thead th {\n",
       "        text-align: left;\n",
       "    }\n",
       "\n",
       "    .dataframe tbody tr th {\n",
       "        vertical-align: top;\n",
       "    }\n",
       "</style>\n",
       "<table border=\"1\" class=\"dataframe\">\n",
       "  <thead>\n",
       "    <tr style=\"text-align: right;\">\n",
       "      <th></th>\n",
       "      <th>Q3.3_7_TEXT</th>\n",
       "      <th>Q5.3</th>\n",
       "      <th>Q6.1</th>\n",
       "      <th>Q5.6</th>\n",
       "      <th>Q7.2_10</th>\n",
       "      <th>Q7.2_3</th>\n",
       "      <th>Q7.2_9</th>\n",
       "      <th>Q7.2_2</th>\n",
       "      <th>member</th>\n",
       "      <th>Q7.2_5</th>\n",
       "      <th>...</th>\n",
       "      <th>Q5.5_1_TEXT</th>\n",
       "      <th>Q7.2_8</th>\n",
       "      <th>Q7.2_7</th>\n",
       "      <th>Q7.2_6</th>\n",
       "      <th>Q3.4</th>\n",
       "      <th>Q7.2_4</th>\n",
       "      <th>Q3.2</th>\n",
       "      <th>Q3.3</th>\n",
       "      <th>Q7.2_1</th>\n",
       "      <th>Q3.1</th>\n",
       "    </tr>\n",
       "  </thead>\n",
       "  <tbody>\n",
       "    <tr>\n",
       "      <th>0</th>\n",
       "      <td>NaN</td>\n",
       "      <td>Yes</td>\n",
       "      <td>Hacker (you can solve any technical problem an...</td>\n",
       "      <td>6 months or more</td>\n",
       "      <td>Disagree moderately</td>\n",
       "      <td>Agree strongly</td>\n",
       "      <td>Agree moderately</td>\n",
       "      <td>Agree a little</td>\n",
       "      <td>7EYKW64FHG</td>\n",
       "      <td>Agree moderately</td>\n",
       "      <td>...</td>\n",
       "      <td>Lead researcher</td>\n",
       "      <td>Disagree strongly</td>\n",
       "      <td>Agree moderately</td>\n",
       "      <td>Agree a little</td>\n",
       "      <td>Israel</td>\n",
       "      <td>Disagree moderately</td>\n",
       "      <td>34 - 37</td>\n",
       "      <td>White</td>\n",
       "      <td>Disagree a little</td>\n",
       "      <td>Male</td>\n",
       "    </tr>\n",
       "    <tr>\n",
       "      <th>1</th>\n",
       "      <td>NaN</td>\n",
       "      <td>No</td>\n",
       "      <td>Hacker (you can solve any technical problem an...</td>\n",
       "      <td>Less than 1 month</td>\n",
       "      <td>Agree a little</td>\n",
       "      <td>Agree moderately</td>\n",
       "      <td>Agree strongly</td>\n",
       "      <td>Agree a little</td>\n",
       "      <td>O3PUFCVB5K</td>\n",
       "      <td>Agree strongly</td>\n",
       "      <td>...</td>\n",
       "      <td>NaN</td>\n",
       "      <td>Disagree moderately</td>\n",
       "      <td>Agree a little</td>\n",
       "      <td>Agree a little</td>\n",
       "      <td>United States of America</td>\n",
       "      <td>Disagree strongly</td>\n",
       "      <td>18 - 21</td>\n",
       "      <td>White</td>\n",
       "      <td>Agree a little</td>\n",
       "      <td>Male</td>\n",
       "    </tr>\n",
       "    <tr>\n",
       "      <th>2</th>\n",
       "      <td>NaN</td>\n",
       "      <td>Yes</td>\n",
       "      <td>Hipster (you are a creative design genius who ...</td>\n",
       "      <td>6 months or more</td>\n",
       "      <td>Disagree strongly</td>\n",
       "      <td>Agree moderately</td>\n",
       "      <td>Agree a little</td>\n",
       "      <td>Agree a little</td>\n",
       "      <td>XN8V5Z8X50</td>\n",
       "      <td>Agree moderately</td>\n",
       "      <td>...</td>\n",
       "      <td>Chief Product Officer</td>\n",
       "      <td>Disagree strongly</td>\n",
       "      <td>Agree moderately</td>\n",
       "      <td>Disagree moderately</td>\n",
       "      <td>United States of America</td>\n",
       "      <td>Disagree moderately</td>\n",
       "      <td>26 - 29</td>\n",
       "      <td>White</td>\n",
       "      <td>Agree moderately</td>\n",
       "      <td>Female</td>\n",
       "    </tr>\n",
       "    <tr>\n",
       "      <th>3</th>\n",
       "      <td>NaN</td>\n",
       "      <td>Yes</td>\n",
       "      <td>Hustler (you are the one who closes deals and ...</td>\n",
       "      <td>6 months or more</td>\n",
       "      <td>Disagree a little</td>\n",
       "      <td>Agree a little</td>\n",
       "      <td>Agree strongly</td>\n",
       "      <td>Disagree a little</td>\n",
       "      <td>3ZH34TXI1T</td>\n",
       "      <td>Agree strongly</td>\n",
       "      <td>...</td>\n",
       "      <td>Co-Founder and CEO</td>\n",
       "      <td>Disagree moderately</td>\n",
       "      <td>Agree strongly</td>\n",
       "      <td>Agree a little</td>\n",
       "      <td>Germany,United States of America</td>\n",
       "      <td>Disagree moderately</td>\n",
       "      <td>26 - 29</td>\n",
       "      <td>White</td>\n",
       "      <td>Neither agree nor disagree</td>\n",
       "      <td>Female</td>\n",
       "    </tr>\n",
       "    <tr>\n",
       "      <th>4</th>\n",
       "      <td>NaN</td>\n",
       "      <td>It's complicated (explain)</td>\n",
       "      <td>Hipster (you are a creative design genius who ...</td>\n",
       "      <td>1-3 months</td>\n",
       "      <td>Disagree strongly</td>\n",
       "      <td>Agree moderately</td>\n",
       "      <td>Agree strongly</td>\n",
       "      <td>Agree moderately</td>\n",
       "      <td>4OUW6RT5BH</td>\n",
       "      <td>Agree strongly</td>\n",
       "      <td>...</td>\n",
       "      <td>NaN</td>\n",
       "      <td>Disagree strongly</td>\n",
       "      <td>Agree strongly</td>\n",
       "      <td>Disagree moderately</td>\n",
       "      <td>United States of America</td>\n",
       "      <td>Disagree moderately</td>\n",
       "      <td>34 - 37</td>\n",
       "      <td>Asian</td>\n",
       "      <td>Agree moderately</td>\n",
       "      <td>Female</td>\n",
       "    </tr>\n",
       "  </tbody>\n",
       "</table>\n",
       "<p>5 rows × 21 columns</p>\n",
       "</div>"
      ],
      "text/plain": [
       "  Q3.3_7_TEXT                        Q5.3  \\\n",
       "0         NaN                         Yes   \n",
       "1         NaN                          No   \n",
       "2         NaN                         Yes   \n",
       "3         NaN                         Yes   \n",
       "4         NaN  It's complicated (explain)   \n",
       "\n",
       "                                                Q6.1               Q5.6  \\\n",
       "0  Hacker (you can solve any technical problem an...   6 months or more   \n",
       "1  Hacker (you can solve any technical problem an...  Less than 1 month   \n",
       "2  Hipster (you are a creative design genius who ...   6 months or more   \n",
       "3  Hustler (you are the one who closes deals and ...   6 months or more   \n",
       "4  Hipster (you are a creative design genius who ...         1-3 months   \n",
       "\n",
       "               Q7.2_10            Q7.2_3            Q7.2_9             Q7.2_2  \\\n",
       "0  Disagree moderately    Agree strongly  Agree moderately     Agree a little   \n",
       "1       Agree a little  Agree moderately    Agree strongly     Agree a little   \n",
       "2   Disagree strongly   Agree moderately    Agree a little     Agree a little   \n",
       "3    Disagree a little    Agree a little    Agree strongly  Disagree a little   \n",
       "4   Disagree strongly   Agree moderately    Agree strongly   Agree moderately   \n",
       "\n",
       "       member            Q7.2_5   ...              Q5.5_1_TEXT  \\\n",
       "0  7EYKW64FHG  Agree moderately   ...          Lead researcher   \n",
       "1  O3PUFCVB5K    Agree strongly   ...                      NaN   \n",
       "2  XN8V5Z8X50  Agree moderately   ...    Chief Product Officer   \n",
       "3  3ZH34TXI1T    Agree strongly   ...      Co-Founder and CEO    \n",
       "4  4OUW6RT5BH    Agree strongly   ...                      NaN   \n",
       "\n",
       "                Q7.2_8            Q7.2_7               Q7.2_6  \\\n",
       "0   Disagree strongly   Agree moderately       Agree a little   \n",
       "1  Disagree moderately    Agree a little       Agree a little   \n",
       "2   Disagree strongly   Agree moderately  Disagree moderately   \n",
       "3  Disagree moderately    Agree strongly       Agree a little   \n",
       "4   Disagree strongly     Agree strongly  Disagree moderately   \n",
       "\n",
       "                               Q3.4               Q7.2_4     Q3.2    Q3.3  \\\n",
       "0                            Israel  Disagree moderately  34 - 37  White    \n",
       "1          United States of America   Disagree strongly   18 - 21  White    \n",
       "2          United States of America  Disagree moderately  26 - 29  White    \n",
       "3  Germany,United States of America  Disagree moderately  26 - 29  White    \n",
       "4          United States of America  Disagree moderately  34 - 37  Asian    \n",
       "\n",
       "                       Q7.2_1    Q3.1  \n",
       "0           Disagree a little    Male  \n",
       "1              Agree a little    Male  \n",
       "2            Agree moderately  Female  \n",
       "3  Neither agree nor disagree  Female  \n",
       "4            Agree moderately  Female  \n",
       "\n",
       "[5 rows x 21 columns]"
      ]
     },
     "execution_count": 40,
     "metadata": {},
     "output_type": "execute_result"
    }
   ],
   "source": [
    "participants_entry_survey_data_anon.head()"
   ]
  },
  {
   "cell_type": "markdown",
   "metadata": {},
   "source": [
    "# Rename columns"
   ]
  },
  {
   "cell_type": "code",
   "execution_count": 41,
   "metadata": {
    "ExecuteTime": {
     "end_time": "2019-01-18T18:20:46.391036Z",
     "start_time": "2019-01-18T18:20:46.379508Z"
    }
   },
   "outputs": [],
   "source": [
    "columns_dict = {\n",
    "    'member':'member',\n",
    "    'Q3.3':'race',\n",
    "    'Q3.3_7_TEXT':'race_other',\n",
    "    'Q3.2':'age',\n",
    "    'Q3.1':'gender',\n",
    "    'Q3.4':'citizneships',\n",
    "    'Q5.3':'is_cofounder',\n",
    "    'Q5.5_1_TEXT':'title',\n",
    "    'Q5.6':'time_in_startup',\n",
    "    'Q6.1':'HHH_type',\n",
    "    'Q6.2':'experience',\n",
    "    'Q7.2_1':'TIPI_1',\n",
    "    'Q7.2_2':'TIPI_2',\n",
    "    'Q7.2_3':'TIPI_3',\n",
    "    'Q7.2_4':'TIPI_4',\n",
    "    'Q7.2_5':'TIPI_5',\n",
    "    'Q7.2_6':'TIPI_6',\n",
    "    'Q7.2_7':'TIPI_7',\n",
    "    'Q7.2_8':'TIPI_8',\n",
    "    'Q7.2_9':'TIPI_9',\n",
    "    'Q7.2_10':'TIPI_10',\n",
    "}"
   ]
  },
  {
   "cell_type": "code",
   "execution_count": 42,
   "metadata": {
    "ExecuteTime": {
     "end_time": "2019-01-18T18:20:46.842848Z",
     "start_time": "2019-01-18T18:20:46.797479Z"
    }
   },
   "outputs": [
    {
     "data": {
      "text/html": [
       "<div>\n",
       "<style>\n",
       "    .dataframe thead tr:only-child th {\n",
       "        text-align: right;\n",
       "    }\n",
       "\n",
       "    .dataframe thead th {\n",
       "        text-align: left;\n",
       "    }\n",
       "\n",
       "    .dataframe tbody tr th {\n",
       "        vertical-align: top;\n",
       "    }\n",
       "</style>\n",
       "<table border=\"1\" class=\"dataframe\">\n",
       "  <thead>\n",
       "    <tr style=\"text-align: right;\">\n",
       "      <th></th>\n",
       "      <th>race_other</th>\n",
       "      <th>is_cofounder</th>\n",
       "      <th>HHH_type</th>\n",
       "      <th>time_in_startup</th>\n",
       "      <th>TIPI_10</th>\n",
       "      <th>TIPI_3</th>\n",
       "      <th>TIPI_9</th>\n",
       "      <th>TIPI_2</th>\n",
       "      <th>member</th>\n",
       "      <th>TIPI_5</th>\n",
       "      <th>...</th>\n",
       "      <th>title</th>\n",
       "      <th>TIPI_8</th>\n",
       "      <th>TIPI_7</th>\n",
       "      <th>TIPI_6</th>\n",
       "      <th>citizneships</th>\n",
       "      <th>TIPI_4</th>\n",
       "      <th>age</th>\n",
       "      <th>race</th>\n",
       "      <th>TIPI_1</th>\n",
       "      <th>gender</th>\n",
       "    </tr>\n",
       "  </thead>\n",
       "  <tbody>\n",
       "    <tr>\n",
       "      <th>0</th>\n",
       "      <td>NaN</td>\n",
       "      <td>Yes</td>\n",
       "      <td>Hacker (you can solve any technical problem an...</td>\n",
       "      <td>6 months or more</td>\n",
       "      <td>Disagree moderately</td>\n",
       "      <td>Agree strongly</td>\n",
       "      <td>Agree moderately</td>\n",
       "      <td>Agree a little</td>\n",
       "      <td>7EYKW64FHG</td>\n",
       "      <td>Agree moderately</td>\n",
       "      <td>...</td>\n",
       "      <td>Lead researcher</td>\n",
       "      <td>Disagree strongly</td>\n",
       "      <td>Agree moderately</td>\n",
       "      <td>Agree a little</td>\n",
       "      <td>Israel</td>\n",
       "      <td>Disagree moderately</td>\n",
       "      <td>34 - 37</td>\n",
       "      <td>White</td>\n",
       "      <td>Disagree a little</td>\n",
       "      <td>Male</td>\n",
       "    </tr>\n",
       "    <tr>\n",
       "      <th>1</th>\n",
       "      <td>NaN</td>\n",
       "      <td>No</td>\n",
       "      <td>Hacker (you can solve any technical problem an...</td>\n",
       "      <td>Less than 1 month</td>\n",
       "      <td>Agree a little</td>\n",
       "      <td>Agree moderately</td>\n",
       "      <td>Agree strongly</td>\n",
       "      <td>Agree a little</td>\n",
       "      <td>O3PUFCVB5K</td>\n",
       "      <td>Agree strongly</td>\n",
       "      <td>...</td>\n",
       "      <td>NaN</td>\n",
       "      <td>Disagree moderately</td>\n",
       "      <td>Agree a little</td>\n",
       "      <td>Agree a little</td>\n",
       "      <td>United States of America</td>\n",
       "      <td>Disagree strongly</td>\n",
       "      <td>18 - 21</td>\n",
       "      <td>White</td>\n",
       "      <td>Agree a little</td>\n",
       "      <td>Male</td>\n",
       "    </tr>\n",
       "    <tr>\n",
       "      <th>2</th>\n",
       "      <td>NaN</td>\n",
       "      <td>Yes</td>\n",
       "      <td>Hipster (you are a creative design genius who ...</td>\n",
       "      <td>6 months or more</td>\n",
       "      <td>Disagree strongly</td>\n",
       "      <td>Agree moderately</td>\n",
       "      <td>Agree a little</td>\n",
       "      <td>Agree a little</td>\n",
       "      <td>XN8V5Z8X50</td>\n",
       "      <td>Agree moderately</td>\n",
       "      <td>...</td>\n",
       "      <td>Chief Product Officer</td>\n",
       "      <td>Disagree strongly</td>\n",
       "      <td>Agree moderately</td>\n",
       "      <td>Disagree moderately</td>\n",
       "      <td>United States of America</td>\n",
       "      <td>Disagree moderately</td>\n",
       "      <td>26 - 29</td>\n",
       "      <td>White</td>\n",
       "      <td>Agree moderately</td>\n",
       "      <td>Female</td>\n",
       "    </tr>\n",
       "    <tr>\n",
       "      <th>3</th>\n",
       "      <td>NaN</td>\n",
       "      <td>Yes</td>\n",
       "      <td>Hustler (you are the one who closes deals and ...</td>\n",
       "      <td>6 months or more</td>\n",
       "      <td>Disagree a little</td>\n",
       "      <td>Agree a little</td>\n",
       "      <td>Agree strongly</td>\n",
       "      <td>Disagree a little</td>\n",
       "      <td>3ZH34TXI1T</td>\n",
       "      <td>Agree strongly</td>\n",
       "      <td>...</td>\n",
       "      <td>Co-Founder and CEO</td>\n",
       "      <td>Disagree moderately</td>\n",
       "      <td>Agree strongly</td>\n",
       "      <td>Agree a little</td>\n",
       "      <td>Germany,United States of America</td>\n",
       "      <td>Disagree moderately</td>\n",
       "      <td>26 - 29</td>\n",
       "      <td>White</td>\n",
       "      <td>Neither agree nor disagree</td>\n",
       "      <td>Female</td>\n",
       "    </tr>\n",
       "    <tr>\n",
       "      <th>4</th>\n",
       "      <td>NaN</td>\n",
       "      <td>It's complicated (explain)</td>\n",
       "      <td>Hipster (you are a creative design genius who ...</td>\n",
       "      <td>1-3 months</td>\n",
       "      <td>Disagree strongly</td>\n",
       "      <td>Agree moderately</td>\n",
       "      <td>Agree strongly</td>\n",
       "      <td>Agree moderately</td>\n",
       "      <td>4OUW6RT5BH</td>\n",
       "      <td>Agree strongly</td>\n",
       "      <td>...</td>\n",
       "      <td>NaN</td>\n",
       "      <td>Disagree strongly</td>\n",
       "      <td>Agree strongly</td>\n",
       "      <td>Disagree moderately</td>\n",
       "      <td>United States of America</td>\n",
       "      <td>Disagree moderately</td>\n",
       "      <td>34 - 37</td>\n",
       "      <td>Asian</td>\n",
       "      <td>Agree moderately</td>\n",
       "      <td>Female</td>\n",
       "    </tr>\n",
       "  </tbody>\n",
       "</table>\n",
       "<p>5 rows × 21 columns</p>\n",
       "</div>"
      ],
      "text/plain": [
       "  race_other                is_cofounder  \\\n",
       "0        NaN                         Yes   \n",
       "1        NaN                          No   \n",
       "2        NaN                         Yes   \n",
       "3        NaN                         Yes   \n",
       "4        NaN  It's complicated (explain)   \n",
       "\n",
       "                                            HHH_type    time_in_startup  \\\n",
       "0  Hacker (you can solve any technical problem an...   6 months or more   \n",
       "1  Hacker (you can solve any technical problem an...  Less than 1 month   \n",
       "2  Hipster (you are a creative design genius who ...   6 months or more   \n",
       "3  Hustler (you are the one who closes deals and ...   6 months or more   \n",
       "4  Hipster (you are a creative design genius who ...         1-3 months   \n",
       "\n",
       "               TIPI_10            TIPI_3            TIPI_9             TIPI_2  \\\n",
       "0  Disagree moderately    Agree strongly  Agree moderately     Agree a little   \n",
       "1       Agree a little  Agree moderately    Agree strongly     Agree a little   \n",
       "2   Disagree strongly   Agree moderately    Agree a little     Agree a little   \n",
       "3    Disagree a little    Agree a little    Agree strongly  Disagree a little   \n",
       "4   Disagree strongly   Agree moderately    Agree strongly   Agree moderately   \n",
       "\n",
       "       member            TIPI_5   ...                    title  \\\n",
       "0  7EYKW64FHG  Agree moderately   ...          Lead researcher   \n",
       "1  O3PUFCVB5K    Agree strongly   ...                      NaN   \n",
       "2  XN8V5Z8X50  Agree moderately   ...    Chief Product Officer   \n",
       "3  3ZH34TXI1T    Agree strongly   ...      Co-Founder and CEO    \n",
       "4  4OUW6RT5BH    Agree strongly   ...                      NaN   \n",
       "\n",
       "                TIPI_8            TIPI_7               TIPI_6  \\\n",
       "0   Disagree strongly   Agree moderately       Agree a little   \n",
       "1  Disagree moderately    Agree a little       Agree a little   \n",
       "2   Disagree strongly   Agree moderately  Disagree moderately   \n",
       "3  Disagree moderately    Agree strongly       Agree a little   \n",
       "4   Disagree strongly     Agree strongly  Disagree moderately   \n",
       "\n",
       "                       citizneships               TIPI_4      age    race  \\\n",
       "0                            Israel  Disagree moderately  34 - 37  White    \n",
       "1          United States of America   Disagree strongly   18 - 21  White    \n",
       "2          United States of America  Disagree moderately  26 - 29  White    \n",
       "3  Germany,United States of America  Disagree moderately  26 - 29  White    \n",
       "4          United States of America  Disagree moderately  34 - 37  Asian    \n",
       "\n",
       "                       TIPI_1  gender  \n",
       "0           Disagree a little    Male  \n",
       "1              Agree a little    Male  \n",
       "2            Agree moderately  Female  \n",
       "3  Neither agree nor disagree  Female  \n",
       "4            Agree moderately  Female  \n",
       "\n",
       "[5 rows x 21 columns]"
      ]
     },
     "execution_count": 42,
     "metadata": {},
     "output_type": "execute_result"
    }
   ],
   "source": [
    "participants_entry_survey_data_clean = participants_entry_survey_data_anon.rename(columns=columns_dict)\n",
    "participants_entry_survey_data_clean.head(5)"
   ]
  },
  {
   "cell_type": "markdown",
   "metadata": {
    "ExecuteTime": {
     "end_time": "2018-10-31T17:57:45.979701Z",
     "start_time": "2018-10-31T17:57:45.974102Z"
    }
   },
   "source": [
    "# Translate values"
   ]
  },
  {
   "cell_type": "markdown",
   "metadata": {},
   "source": [
    "## Big 5 TIPI"
   ]
  },
  {
   "cell_type": "markdown",
   "metadata": {},
   "source": [
    "### Transalte text to numbers"
   ]
  },
  {
   "cell_type": "code",
   "execution_count": 43,
   "metadata": {
    "ExecuteTime": {
     "end_time": "2019-01-18T18:20:48.685889Z",
     "start_time": "2019-01-18T18:20:48.678355Z"
    }
   },
   "outputs": [
    {
     "data": {
      "text/plain": [
       "array(['Disagree a little', 'Agree a little', 'Agree moderately',\n",
       "       'Neither agree nor disagree', 'Agree strongly',\n",
       "       'Disagree moderately', 'Disagree strongly '], dtype=object)"
      ]
     },
     "execution_count": 43,
     "metadata": {},
     "output_type": "execute_result"
    }
   ],
   "source": [
    "participants_entry_survey_data_clean.TIPI_1.unique()"
   ]
  },
  {
   "cell_type": "code",
   "execution_count": 44,
   "metadata": {
    "ExecuteTime": {
     "end_time": "2019-01-18T18:20:49.141496Z",
     "start_time": "2019-01-18T18:20:49.132425Z"
    }
   },
   "outputs": [],
   "source": [
    "def TIPI_Translation(answer):\n",
    "    \"\"\"\n",
    "    A function to translate the string answers from the TIPI survey to numbers\n",
    "    \"\"\"\n",
    "    if answer == 'Agree strongly':\n",
    "        return(7.0)\n",
    "    if answer == 'Agree moderately':\n",
    "        return(6.0)\n",
    "    if answer == 'Agree a little':\n",
    "        return(5.0)\n",
    "    if answer == 'Neither agree nor disagree':\n",
    "        return(4.0)\n",
    "    if answer == 'Disagree a little':\n",
    "        return(3.0)\n",
    "    if answer == 'Disagree moderately':\n",
    "        return(2.0)\n",
    "    if answer == 'Disagree strongly ': #extra space....\n",
    "        return(1.0)\n",
    "    if answer == 'Disagree strongly':\n",
    "        return(1.0)\n",
    "    return answer"
   ]
  },
  {
   "cell_type": "code",
   "execution_count": 45,
   "metadata": {
    "ExecuteTime": {
     "end_time": "2019-01-18T18:20:50.328151Z",
     "start_time": "2019-01-18T18:20:50.316697Z"
    }
   },
   "outputs": [],
   "source": [
    "#Apply translation functions\n",
    "for i in range(1,11):\n",
    "    participants_entry_survey_data_clean['TIPI_{}'.format(i)] = participants_entry_survey_data_clean['TIPI_{}'.format(i)].apply(TIPI_Translation)  "
   ]
  },
  {
   "cell_type": "markdown",
   "metadata": {},
   "source": [
    "### Transalte answers to personality\n",
    "TIPI scale scoring (“R” denotes reverse-scored items):\n",
    "* Extraversion: 1, 6R\n",
    "* Agreeableness: 2R, 7\n",
    "* Conscientiousness; 3, 8R\n",
    "* Emotional Stability: 4R, 9\n",
    "* Openness to Experiences: 5, 10R\n",
    "\n",
    "Scoring the TIPI:\n",
    "1. Recode the reverse-scored items (i.e., recode a 7 with a 1, a 6 with a 2, a 5 with a 3, etc.). The reverse scored items are 2, 4, 6, 8, & 10.\n",
    "\n",
    "2. Take the AVERAGE of the two items (the standard item and the recoded reverse-scored item) that make up each scale.\n",
    "\n",
    "Example using the Extraversion scale: A participant has scores of 5 on item 1 (Extraverted, enthusiastic) and and 2 on item 6 (Reserved, quiet). First, recode the reverse-scored item (i.e., item 6), replacing the 2 with a 6. Second, take the average of the score for item 1 and the (recoded) score for item 6. So the TIPI Extraversion scale score would be: (5 + 6)/2 = 5.5"
   ]
  },
  {
   "cell_type": "code",
   "execution_count": 46,
   "metadata": {
    "ExecuteTime": {
     "end_time": "2019-01-18T18:20:51.163051Z",
     "start_time": "2019-01-18T18:20:51.156196Z"
    }
   },
   "outputs": [],
   "source": [
    "for i in range(2,11,2):\n",
    "        participants_entry_survey_data_clean['TIPI_{}R'.format(i)] = 8 - participants_entry_survey_data_clean['TIPI_{}'.format(i)]"
   ]
  },
  {
   "cell_type": "code",
   "execution_count": 47,
   "metadata": {
    "ExecuteTime": {
     "end_time": "2019-01-18T18:20:51.557548Z",
     "start_time": "2019-01-18T18:20:51.545237Z"
    }
   },
   "outputs": [],
   "source": [
    "df = participants_entry_survey_data_clean\n",
    "participants_entry_survey_data_clean['TIPI_extraversion']        = (df['TIPI_1']+df['TIPI_6R'])/2\n",
    "participants_entry_survey_data_clean['TIPI_agreeableness']       = (df['TIPI_2R']+df['TIPI_7'])/2\n",
    "participants_entry_survey_data_clean['TIPI_conscientiousness']   = (df['TIPI_3']+df['TIPI_8R'])/2\n",
    "participants_entry_survey_data_clean['TIPI_emotional_stability'] = (df['TIPI_4R']+df['TIPI_9'])/2\n",
    "participants_entry_survey_data_clean['TIPI_openness']            = (df['TIPI_5']+df['TIPI_10R'])/2\n"
   ]
  },
  {
   "cell_type": "code",
   "execution_count": 48,
   "metadata": {
    "ExecuteTime": {
     "end_time": "2019-01-18T18:20:51.939352Z",
     "start_time": "2019-01-18T18:20:51.924176Z"
    }
   },
   "outputs": [],
   "source": [
    "for i in range(1,11):\n",
    "    del participants_entry_survey_data_clean['TIPI_{}'.format(i)]\n",
    "    \n",
    "for i in range(2,11,2):\n",
    "    del participants_entry_survey_data_clean['TIPI_{}R'.format(i)]"
   ]
  },
  {
   "cell_type": "code",
   "execution_count": 49,
   "metadata": {
    "ExecuteTime": {
     "end_time": "2019-01-18T18:20:52.485364Z",
     "start_time": "2019-01-18T18:20:52.448050Z"
    }
   },
   "outputs": [
    {
     "data": {
      "text/html": [
       "<div>\n",
       "<style>\n",
       "    .dataframe thead tr:only-child th {\n",
       "        text-align: right;\n",
       "    }\n",
       "\n",
       "    .dataframe thead th {\n",
       "        text-align: left;\n",
       "    }\n",
       "\n",
       "    .dataframe tbody tr th {\n",
       "        vertical-align: top;\n",
       "    }\n",
       "</style>\n",
       "<table border=\"1\" class=\"dataframe\">\n",
       "  <thead>\n",
       "    <tr style=\"text-align: right;\">\n",
       "      <th></th>\n",
       "      <th>race_other</th>\n",
       "      <th>is_cofounder</th>\n",
       "      <th>HHH_type</th>\n",
       "      <th>time_in_startup</th>\n",
       "      <th>member</th>\n",
       "      <th>experience</th>\n",
       "      <th>title</th>\n",
       "      <th>citizneships</th>\n",
       "      <th>age</th>\n",
       "      <th>race</th>\n",
       "      <th>gender</th>\n",
       "      <th>TIPI_extraversion</th>\n",
       "      <th>TIPI_agreeableness</th>\n",
       "      <th>TIPI_conscientiousness</th>\n",
       "      <th>TIPI_emotional_stability</th>\n",
       "      <th>TIPI_openness</th>\n",
       "    </tr>\n",
       "  </thead>\n",
       "  <tbody>\n",
       "    <tr>\n",
       "      <th>0</th>\n",
       "      <td>NaN</td>\n",
       "      <td>Yes</td>\n",
       "      <td>Hacker (you can solve any technical problem an...</td>\n",
       "      <td>6 months or more</td>\n",
       "      <td>7EYKW64FHG</td>\n",
       "      <td>More than 10 years</td>\n",
       "      <td>Lead researcher</td>\n",
       "      <td>Israel</td>\n",
       "      <td>34 - 37</td>\n",
       "      <td>White</td>\n",
       "      <td>Male</td>\n",
       "      <td>3.0</td>\n",
       "      <td>4.5</td>\n",
       "      <td>7.0</td>\n",
       "      <td>6.0</td>\n",
       "      <td>6.0</td>\n",
       "    </tr>\n",
       "    <tr>\n",
       "      <th>1</th>\n",
       "      <td>NaN</td>\n",
       "      <td>No</td>\n",
       "      <td>Hacker (you can solve any technical problem an...</td>\n",
       "      <td>Less than 1 month</td>\n",
       "      <td>O3PUFCVB5K</td>\n",
       "      <td>1-2 years</td>\n",
       "      <td>NaN</td>\n",
       "      <td>United States of America</td>\n",
       "      <td>18 - 21</td>\n",
       "      <td>White</td>\n",
       "      <td>Male</td>\n",
       "      <td>4.0</td>\n",
       "      <td>4.0</td>\n",
       "      <td>6.0</td>\n",
       "      <td>7.0</td>\n",
       "      <td>5.0</td>\n",
       "    </tr>\n",
       "    <tr>\n",
       "      <th>2</th>\n",
       "      <td>NaN</td>\n",
       "      <td>Yes</td>\n",
       "      <td>Hipster (you are a creative design genius who ...</td>\n",
       "      <td>6 months or more</td>\n",
       "      <td>XN8V5Z8X50</td>\n",
       "      <td>3-4 years</td>\n",
       "      <td>Chief Product Officer</td>\n",
       "      <td>United States of America</td>\n",
       "      <td>26 - 29</td>\n",
       "      <td>White</td>\n",
       "      <td>Female</td>\n",
       "      <td>6.0</td>\n",
       "      <td>4.5</td>\n",
       "      <td>6.5</td>\n",
       "      <td>5.5</td>\n",
       "      <td>6.5</td>\n",
       "    </tr>\n",
       "    <tr>\n",
       "      <th>3</th>\n",
       "      <td>NaN</td>\n",
       "      <td>Yes</td>\n",
       "      <td>Hustler (you are the one who closes deals and ...</td>\n",
       "      <td>6 months or more</td>\n",
       "      <td>3ZH34TXI1T</td>\n",
       "      <td>5-6 years</td>\n",
       "      <td>Co-Founder and CEO</td>\n",
       "      <td>Germany,United States of America</td>\n",
       "      <td>26 - 29</td>\n",
       "      <td>White</td>\n",
       "      <td>Female</td>\n",
       "      <td>3.5</td>\n",
       "      <td>6.0</td>\n",
       "      <td>5.5</td>\n",
       "      <td>6.5</td>\n",
       "      <td>6.0</td>\n",
       "    </tr>\n",
       "    <tr>\n",
       "      <th>4</th>\n",
       "      <td>NaN</td>\n",
       "      <td>It's complicated (explain)</td>\n",
       "      <td>Hipster (you are a creative design genius who ...</td>\n",
       "      <td>1-3 months</td>\n",
       "      <td>4OUW6RT5BH</td>\n",
       "      <td>More than 10 years</td>\n",
       "      <td>NaN</td>\n",
       "      <td>United States of America</td>\n",
       "      <td>34 - 37</td>\n",
       "      <td>Asian</td>\n",
       "      <td>Female</td>\n",
       "      <td>6.0</td>\n",
       "      <td>4.5</td>\n",
       "      <td>6.5</td>\n",
       "      <td>6.5</td>\n",
       "      <td>7.0</td>\n",
       "    </tr>\n",
       "  </tbody>\n",
       "</table>\n",
       "</div>"
      ],
      "text/plain": [
       "  race_other                is_cofounder  \\\n",
       "0        NaN                         Yes   \n",
       "1        NaN                          No   \n",
       "2        NaN                         Yes   \n",
       "3        NaN                         Yes   \n",
       "4        NaN  It's complicated (explain)   \n",
       "\n",
       "                                            HHH_type    time_in_startup  \\\n",
       "0  Hacker (you can solve any technical problem an...   6 months or more   \n",
       "1  Hacker (you can solve any technical problem an...  Less than 1 month   \n",
       "2  Hipster (you are a creative design genius who ...   6 months or more   \n",
       "3  Hustler (you are the one who closes deals and ...   6 months or more   \n",
       "4  Hipster (you are a creative design genius who ...         1-3 months   \n",
       "\n",
       "       member          experience                  title  \\\n",
       "0  7EYKW64FHG  More than 10 years        Lead researcher   \n",
       "1  O3PUFCVB5K           1-2 years                    NaN   \n",
       "2  XN8V5Z8X50           3-4 years  Chief Product Officer   \n",
       "3  3ZH34TXI1T           5-6 years    Co-Founder and CEO    \n",
       "4  4OUW6RT5BH  More than 10 years                    NaN   \n",
       "\n",
       "                       citizneships      age    race  gender  \\\n",
       "0                            Israel  34 - 37  White     Male   \n",
       "1          United States of America  18 - 21  White     Male   \n",
       "2          United States of America  26 - 29  White   Female   \n",
       "3  Germany,United States of America  26 - 29  White   Female   \n",
       "4          United States of America  34 - 37  Asian   Female   \n",
       "\n",
       "   TIPI_extraversion  TIPI_agreeableness  TIPI_conscientiousness  \\\n",
       "0                3.0                 4.5                     7.0   \n",
       "1                4.0                 4.0                     6.0   \n",
       "2                6.0                 4.5                     6.5   \n",
       "3                3.5                 6.0                     5.5   \n",
       "4                6.0                 4.5                     6.5   \n",
       "\n",
       "   TIPI_emotional_stability  TIPI_openness  \n",
       "0                       6.0            6.0  \n",
       "1                       7.0            5.0  \n",
       "2                       5.5            6.5  \n",
       "3                       6.5            6.0  \n",
       "4                       6.5            7.0  "
      ]
     },
     "execution_count": 49,
     "metadata": {},
     "output_type": "execute_result"
    }
   ],
   "source": [
    "participants_entry_survey_data_clean.head()"
   ]
  },
  {
   "cell_type": "markdown",
   "metadata": {},
   "source": [
    "## is CEO?"
   ]
  },
  {
   "cell_type": "code",
   "execution_count": 50,
   "metadata": {
    "ExecuteTime": {
     "end_time": "2019-01-18T18:20:54.557983Z",
     "start_time": "2019-01-18T18:20:54.547263Z"
    }
   },
   "outputs": [
    {
     "data": {
      "text/plain": [
       "CEO                                          16\n",
       "CTO                                           5\n",
       "COO                                           3\n",
       "Associate Software Engineer                   2\n",
       "Ceo                                           2\n",
       "CCO                                           1\n",
       "Data Science Associate, Clinical Research     1\n",
       "Product Developer                             1\n",
       "Head of Strategic Partnerships                1\n",
       "President/CEO                                 1\n",
       "Machine Learning Engineer                     1\n",
       "Business Development Manager                  1\n",
       "Chief Product Officer                         1\n",
       "Associate Engineer                            1\n",
       "Lead researcher                               1\n",
       "CSO                                           1\n",
       "Chief Marketing Officer                       1\n",
       "Technical Leader                              1\n",
       "Co-founder                                    1\n",
       "Aleksey Utkin                                 1\n",
       "Head of BD                                    1\n",
       "Head of Product & Technology                  1\n",
       "Shana                                         1\n",
       "Lead Developer                                1\n",
       "CLO                                           1\n",
       "Director Engineering                          1\n",
       "Head of Business Development                  1\n",
       "Co-Founder and CEO                            1\n",
       "cto                                           1\n",
       "CMO                                           1\n",
       "Name: title, dtype: int64"
      ]
     },
     "execution_count": 50,
     "metadata": {},
     "output_type": "execute_result"
    }
   ],
   "source": [
    "participants_entry_survey_data_clean.title.value_counts()\n",
    "#CEO\n",
    "#Ceo"
   ]
  },
  {
   "cell_type": "code",
   "execution_count": 51,
   "metadata": {
    "ExecuteTime": {
     "end_time": "2019-01-18T18:20:55.074846Z",
     "start_time": "2019-01-18T18:20:55.062916Z"
    }
   },
   "outputs": [],
   "source": [
    "#participants_entry_survey_data_clean['is_ceo'] = \\\n",
    "#    participants_entry_survey_data_clean.title.str.contains('ceo',case=False)\\\n",
    "#    .fillna(False)\n",
    "\n",
    "\n",
    "participants_entry_survey_data_clean['is_ceo'] = 0\n",
    "cond = (participants_entry_survey_data_clean.title.fillna(\"\").str.contains(\"ceo\",case=False))\n",
    "participants_entry_survey_data_clean.loc[cond,'is_ceo'] = 1"
   ]
  },
  {
   "cell_type": "code",
   "execution_count": 52,
   "metadata": {
    "ExecuteTime": {
     "end_time": "2019-01-18T18:20:56.176926Z",
     "start_time": "2019-01-18T18:20:56.152737Z"
    }
   },
   "outputs": [
    {
     "data": {
      "text/html": [
       "<div>\n",
       "<style>\n",
       "    .dataframe thead tr:only-child th {\n",
       "        text-align: right;\n",
       "    }\n",
       "\n",
       "    .dataframe thead th {\n",
       "        text-align: left;\n",
       "    }\n",
       "\n",
       "    .dataframe tbody tr th {\n",
       "        vertical-align: top;\n",
       "    }\n",
       "</style>\n",
       "<table border=\"1\" class=\"dataframe\">\n",
       "  <thead>\n",
       "    <tr style=\"text-align: right;\">\n",
       "      <th></th>\n",
       "      <th>title</th>\n",
       "      <th>is_ceo</th>\n",
       "    </tr>\n",
       "  </thead>\n",
       "  <tbody>\n",
       "    <tr>\n",
       "      <th>3</th>\n",
       "      <td>Co-Founder and CEO</td>\n",
       "      <td>1</td>\n",
       "    </tr>\n",
       "    <tr>\n",
       "      <th>5</th>\n",
       "      <td>CEO</td>\n",
       "      <td>1</td>\n",
       "    </tr>\n",
       "    <tr>\n",
       "      <th>6</th>\n",
       "      <td>President/CEO</td>\n",
       "      <td>1</td>\n",
       "    </tr>\n",
       "    <tr>\n",
       "      <th>8</th>\n",
       "      <td>Ceo</td>\n",
       "      <td>1</td>\n",
       "    </tr>\n",
       "    <tr>\n",
       "      <th>17</th>\n",
       "      <td>CEO</td>\n",
       "      <td>1</td>\n",
       "    </tr>\n",
       "    <tr>\n",
       "      <th>19</th>\n",
       "      <td>CEO</td>\n",
       "      <td>1</td>\n",
       "    </tr>\n",
       "    <tr>\n",
       "      <th>28</th>\n",
       "      <td>CEO</td>\n",
       "      <td>1</td>\n",
       "    </tr>\n",
       "    <tr>\n",
       "      <th>31</th>\n",
       "      <td>Ceo</td>\n",
       "      <td>1</td>\n",
       "    </tr>\n",
       "    <tr>\n",
       "      <th>34</th>\n",
       "      <td>CEO</td>\n",
       "      <td>1</td>\n",
       "    </tr>\n",
       "    <tr>\n",
       "      <th>36</th>\n",
       "      <td>CEO</td>\n",
       "      <td>1</td>\n",
       "    </tr>\n",
       "    <tr>\n",
       "      <th>39</th>\n",
       "      <td>CEO</td>\n",
       "      <td>1</td>\n",
       "    </tr>\n",
       "    <tr>\n",
       "      <th>40</th>\n",
       "      <td>CEO</td>\n",
       "      <td>1</td>\n",
       "    </tr>\n",
       "    <tr>\n",
       "      <th>46</th>\n",
       "      <td>CEO</td>\n",
       "      <td>1</td>\n",
       "    </tr>\n",
       "    <tr>\n",
       "      <th>48</th>\n",
       "      <td>CEO</td>\n",
       "      <td>1</td>\n",
       "    </tr>\n",
       "    <tr>\n",
       "      <th>49</th>\n",
       "      <td>CEO</td>\n",
       "      <td>1</td>\n",
       "    </tr>\n",
       "    <tr>\n",
       "      <th>50</th>\n",
       "      <td>CEO</td>\n",
       "      <td>1</td>\n",
       "    </tr>\n",
       "    <tr>\n",
       "      <th>60</th>\n",
       "      <td>CEO</td>\n",
       "      <td>1</td>\n",
       "    </tr>\n",
       "    <tr>\n",
       "      <th>65</th>\n",
       "      <td>CEO</td>\n",
       "      <td>1</td>\n",
       "    </tr>\n",
       "    <tr>\n",
       "      <th>67</th>\n",
       "      <td>CEO</td>\n",
       "      <td>1</td>\n",
       "    </tr>\n",
       "    <tr>\n",
       "      <th>73</th>\n",
       "      <td>CEO</td>\n",
       "      <td>1</td>\n",
       "    </tr>\n",
       "  </tbody>\n",
       "</table>\n",
       "</div>"
      ],
      "text/plain": [
       "                  title  is_ceo\n",
       "3   Co-Founder and CEO        1\n",
       "5                   CEO       1\n",
       "6         President/CEO       1\n",
       "8                   Ceo       1\n",
       "17                  CEO       1\n",
       "19                  CEO       1\n",
       "28                  CEO       1\n",
       "31                  Ceo       1\n",
       "34                  CEO       1\n",
       "36                  CEO       1\n",
       "39                  CEO       1\n",
       "40                  CEO       1\n",
       "46                  CEO       1\n",
       "48                  CEO       1\n",
       "49                  CEO       1\n",
       "50                  CEO       1\n",
       "60                  CEO       1\n",
       "65                  CEO       1\n",
       "67                  CEO       1\n",
       "73                  CEO       1"
      ]
     },
     "execution_count": 52,
     "metadata": {},
     "output_type": "execute_result"
    }
   ],
   "source": [
    "participants_entry_survey_data_clean.query('is_ceo == 1')[['title','is_ceo']]"
   ]
  },
  {
   "cell_type": "code",
   "execution_count": 53,
   "metadata": {
    "ExecuteTime": {
     "end_time": "2019-01-18T18:20:56.704697Z",
     "start_time": "2019-01-18T18:20:56.665872Z"
    }
   },
   "outputs": [
    {
     "data": {
      "text/html": [
       "<div>\n",
       "<style>\n",
       "    .dataframe thead tr:only-child th {\n",
       "        text-align: right;\n",
       "    }\n",
       "\n",
       "    .dataframe thead th {\n",
       "        text-align: left;\n",
       "    }\n",
       "\n",
       "    .dataframe tbody tr th {\n",
       "        vertical-align: top;\n",
       "    }\n",
       "</style>\n",
       "<table border=\"1\" class=\"dataframe\">\n",
       "  <thead>\n",
       "    <tr style=\"text-align: right;\">\n",
       "      <th></th>\n",
       "      <th>member</th>\n",
       "      <th>title</th>\n",
       "      <th>is_ceo</th>\n",
       "    </tr>\n",
       "  </thead>\n",
       "  <tbody>\n",
       "    <tr>\n",
       "      <th>0</th>\n",
       "      <td>7EYKW64FHG</td>\n",
       "      <td>Lead researcher</td>\n",
       "      <td>0</td>\n",
       "    </tr>\n",
       "    <tr>\n",
       "      <th>0</th>\n",
       "      <td>7EYKW64FHG</td>\n",
       "      <td>Lead researcher</td>\n",
       "      <td>0</td>\n",
       "    </tr>\n",
       "    <tr>\n",
       "      <th>0</th>\n",
       "      <td>7EYKW64FHG</td>\n",
       "      <td>Lead researcher</td>\n",
       "      <td>0</td>\n",
       "    </tr>\n",
       "    <tr>\n",
       "      <th>1</th>\n",
       "      <td>O3PUFCVB5K</td>\n",
       "      <td>NaN</td>\n",
       "      <td>0</td>\n",
       "    </tr>\n",
       "    <tr>\n",
       "      <th>0</th>\n",
       "      <td>7EYKW64FHG</td>\n",
       "      <td>Lead researcher</td>\n",
       "      <td>0</td>\n",
       "    </tr>\n",
       "    <tr>\n",
       "      <th>1</th>\n",
       "      <td>O3PUFCVB5K</td>\n",
       "      <td>NaN</td>\n",
       "      <td>0</td>\n",
       "    </tr>\n",
       "    <tr>\n",
       "      <th>1</th>\n",
       "      <td>O3PUFCVB5K</td>\n",
       "      <td>NaN</td>\n",
       "      <td>0</td>\n",
       "    </tr>\n",
       "    <tr>\n",
       "      <th>0</th>\n",
       "      <td>7EYKW64FHG</td>\n",
       "      <td>Lead researcher</td>\n",
       "      <td>0</td>\n",
       "    </tr>\n",
       "    <tr>\n",
       "      <th>1</th>\n",
       "      <td>O3PUFCVB5K</td>\n",
       "      <td>NaN</td>\n",
       "      <td>0</td>\n",
       "    </tr>\n",
       "    <tr>\n",
       "      <th>0</th>\n",
       "      <td>7EYKW64FHG</td>\n",
       "      <td>Lead researcher</td>\n",
       "      <td>0</td>\n",
       "    </tr>\n",
       "    <tr>\n",
       "      <th>0</th>\n",
       "      <td>7EYKW64FHG</td>\n",
       "      <td>Lead researcher</td>\n",
       "      <td>0</td>\n",
       "    </tr>\n",
       "    <tr>\n",
       "      <th>0</th>\n",
       "      <td>7EYKW64FHG</td>\n",
       "      <td>Lead researcher</td>\n",
       "      <td>0</td>\n",
       "    </tr>\n",
       "    <tr>\n",
       "      <th>0</th>\n",
       "      <td>7EYKW64FHG</td>\n",
       "      <td>Lead researcher</td>\n",
       "      <td>0</td>\n",
       "    </tr>\n",
       "    <tr>\n",
       "      <th>0</th>\n",
       "      <td>7EYKW64FHG</td>\n",
       "      <td>Lead researcher</td>\n",
       "      <td>0</td>\n",
       "    </tr>\n",
       "    <tr>\n",
       "      <th>0</th>\n",
       "      <td>7EYKW64FHG</td>\n",
       "      <td>Lead researcher</td>\n",
       "      <td>0</td>\n",
       "    </tr>\n",
       "    <tr>\n",
       "      <th>0</th>\n",
       "      <td>7EYKW64FHG</td>\n",
       "      <td>Lead researcher</td>\n",
       "      <td>0</td>\n",
       "    </tr>\n",
       "    <tr>\n",
       "      <th>0</th>\n",
       "      <td>7EYKW64FHG</td>\n",
       "      <td>Lead researcher</td>\n",
       "      <td>0</td>\n",
       "    </tr>\n",
       "    <tr>\n",
       "      <th>1</th>\n",
       "      <td>O3PUFCVB5K</td>\n",
       "      <td>NaN</td>\n",
       "      <td>0</td>\n",
       "    </tr>\n",
       "    <tr>\n",
       "      <th>0</th>\n",
       "      <td>7EYKW64FHG</td>\n",
       "      <td>Lead researcher</td>\n",
       "      <td>0</td>\n",
       "    </tr>\n",
       "    <tr>\n",
       "      <th>1</th>\n",
       "      <td>O3PUFCVB5K</td>\n",
       "      <td>NaN</td>\n",
       "      <td>0</td>\n",
       "    </tr>\n",
       "    <tr>\n",
       "      <th>0</th>\n",
       "      <td>7EYKW64FHG</td>\n",
       "      <td>Lead researcher</td>\n",
       "      <td>0</td>\n",
       "    </tr>\n",
       "    <tr>\n",
       "      <th>0</th>\n",
       "      <td>7EYKW64FHG</td>\n",
       "      <td>Lead researcher</td>\n",
       "      <td>0</td>\n",
       "    </tr>\n",
       "    <tr>\n",
       "      <th>0</th>\n",
       "      <td>7EYKW64FHG</td>\n",
       "      <td>Lead researcher</td>\n",
       "      <td>0</td>\n",
       "    </tr>\n",
       "    <tr>\n",
       "      <th>0</th>\n",
       "      <td>7EYKW64FHG</td>\n",
       "      <td>Lead researcher</td>\n",
       "      <td>0</td>\n",
       "    </tr>\n",
       "    <tr>\n",
       "      <th>0</th>\n",
       "      <td>7EYKW64FHG</td>\n",
       "      <td>Lead researcher</td>\n",
       "      <td>0</td>\n",
       "    </tr>\n",
       "    <tr>\n",
       "      <th>0</th>\n",
       "      <td>7EYKW64FHG</td>\n",
       "      <td>Lead researcher</td>\n",
       "      <td>0</td>\n",
       "    </tr>\n",
       "    <tr>\n",
       "      <th>0</th>\n",
       "      <td>7EYKW64FHG</td>\n",
       "      <td>Lead researcher</td>\n",
       "      <td>0</td>\n",
       "    </tr>\n",
       "    <tr>\n",
       "      <th>0</th>\n",
       "      <td>7EYKW64FHG</td>\n",
       "      <td>Lead researcher</td>\n",
       "      <td>0</td>\n",
       "    </tr>\n",
       "    <tr>\n",
       "      <th>1</th>\n",
       "      <td>O3PUFCVB5K</td>\n",
       "      <td>NaN</td>\n",
       "      <td>0</td>\n",
       "    </tr>\n",
       "    <tr>\n",
       "      <th>0</th>\n",
       "      <td>7EYKW64FHG</td>\n",
       "      <td>Lead researcher</td>\n",
       "      <td>0</td>\n",
       "    </tr>\n",
       "    <tr>\n",
       "      <th>...</th>\n",
       "      <td>...</td>\n",
       "      <td>...</td>\n",
       "      <td>...</td>\n",
       "    </tr>\n",
       "    <tr>\n",
       "      <th>0</th>\n",
       "      <td>7EYKW64FHG</td>\n",
       "      <td>Lead researcher</td>\n",
       "      <td>0</td>\n",
       "    </tr>\n",
       "    <tr>\n",
       "      <th>0</th>\n",
       "      <td>7EYKW64FHG</td>\n",
       "      <td>Lead researcher</td>\n",
       "      <td>0</td>\n",
       "    </tr>\n",
       "    <tr>\n",
       "      <th>0</th>\n",
       "      <td>7EYKW64FHG</td>\n",
       "      <td>Lead researcher</td>\n",
       "      <td>0</td>\n",
       "    </tr>\n",
       "    <tr>\n",
       "      <th>0</th>\n",
       "      <td>7EYKW64FHG</td>\n",
       "      <td>Lead researcher</td>\n",
       "      <td>0</td>\n",
       "    </tr>\n",
       "    <tr>\n",
       "      <th>0</th>\n",
       "      <td>7EYKW64FHG</td>\n",
       "      <td>Lead researcher</td>\n",
       "      <td>0</td>\n",
       "    </tr>\n",
       "    <tr>\n",
       "      <th>0</th>\n",
       "      <td>7EYKW64FHG</td>\n",
       "      <td>Lead researcher</td>\n",
       "      <td>0</td>\n",
       "    </tr>\n",
       "    <tr>\n",
       "      <th>0</th>\n",
       "      <td>7EYKW64FHG</td>\n",
       "      <td>Lead researcher</td>\n",
       "      <td>0</td>\n",
       "    </tr>\n",
       "    <tr>\n",
       "      <th>1</th>\n",
       "      <td>O3PUFCVB5K</td>\n",
       "      <td>NaN</td>\n",
       "      <td>0</td>\n",
       "    </tr>\n",
       "    <tr>\n",
       "      <th>0</th>\n",
       "      <td>7EYKW64FHG</td>\n",
       "      <td>Lead researcher</td>\n",
       "      <td>0</td>\n",
       "    </tr>\n",
       "    <tr>\n",
       "      <th>0</th>\n",
       "      <td>7EYKW64FHG</td>\n",
       "      <td>Lead researcher</td>\n",
       "      <td>0</td>\n",
       "    </tr>\n",
       "    <tr>\n",
       "      <th>0</th>\n",
       "      <td>7EYKW64FHG</td>\n",
       "      <td>Lead researcher</td>\n",
       "      <td>0</td>\n",
       "    </tr>\n",
       "    <tr>\n",
       "      <th>0</th>\n",
       "      <td>7EYKW64FHG</td>\n",
       "      <td>Lead researcher</td>\n",
       "      <td>0</td>\n",
       "    </tr>\n",
       "    <tr>\n",
       "      <th>1</th>\n",
       "      <td>O3PUFCVB5K</td>\n",
       "      <td>NaN</td>\n",
       "      <td>0</td>\n",
       "    </tr>\n",
       "    <tr>\n",
       "      <th>0</th>\n",
       "      <td>7EYKW64FHG</td>\n",
       "      <td>Lead researcher</td>\n",
       "      <td>0</td>\n",
       "    </tr>\n",
       "    <tr>\n",
       "      <th>1</th>\n",
       "      <td>O3PUFCVB5K</td>\n",
       "      <td>NaN</td>\n",
       "      <td>0</td>\n",
       "    </tr>\n",
       "    <tr>\n",
       "      <th>0</th>\n",
       "      <td>7EYKW64FHG</td>\n",
       "      <td>Lead researcher</td>\n",
       "      <td>0</td>\n",
       "    </tr>\n",
       "    <tr>\n",
       "      <th>0</th>\n",
       "      <td>7EYKW64FHG</td>\n",
       "      <td>Lead researcher</td>\n",
       "      <td>0</td>\n",
       "    </tr>\n",
       "    <tr>\n",
       "      <th>0</th>\n",
       "      <td>7EYKW64FHG</td>\n",
       "      <td>Lead researcher</td>\n",
       "      <td>0</td>\n",
       "    </tr>\n",
       "    <tr>\n",
       "      <th>0</th>\n",
       "      <td>7EYKW64FHG</td>\n",
       "      <td>Lead researcher</td>\n",
       "      <td>0</td>\n",
       "    </tr>\n",
       "    <tr>\n",
       "      <th>0</th>\n",
       "      <td>7EYKW64FHG</td>\n",
       "      <td>Lead researcher</td>\n",
       "      <td>0</td>\n",
       "    </tr>\n",
       "    <tr>\n",
       "      <th>1</th>\n",
       "      <td>O3PUFCVB5K</td>\n",
       "      <td>NaN</td>\n",
       "      <td>0</td>\n",
       "    </tr>\n",
       "    <tr>\n",
       "      <th>0</th>\n",
       "      <td>7EYKW64FHG</td>\n",
       "      <td>Lead researcher</td>\n",
       "      <td>0</td>\n",
       "    </tr>\n",
       "    <tr>\n",
       "      <th>0</th>\n",
       "      <td>7EYKW64FHG</td>\n",
       "      <td>Lead researcher</td>\n",
       "      <td>0</td>\n",
       "    </tr>\n",
       "    <tr>\n",
       "      <th>0</th>\n",
       "      <td>7EYKW64FHG</td>\n",
       "      <td>Lead researcher</td>\n",
       "      <td>0</td>\n",
       "    </tr>\n",
       "    <tr>\n",
       "      <th>0</th>\n",
       "      <td>7EYKW64FHG</td>\n",
       "      <td>Lead researcher</td>\n",
       "      <td>0</td>\n",
       "    </tr>\n",
       "    <tr>\n",
       "      <th>0</th>\n",
       "      <td>7EYKW64FHG</td>\n",
       "      <td>Lead researcher</td>\n",
       "      <td>0</td>\n",
       "    </tr>\n",
       "    <tr>\n",
       "      <th>0</th>\n",
       "      <td>7EYKW64FHG</td>\n",
       "      <td>Lead researcher</td>\n",
       "      <td>0</td>\n",
       "    </tr>\n",
       "    <tr>\n",
       "      <th>0</th>\n",
       "      <td>7EYKW64FHG</td>\n",
       "      <td>Lead researcher</td>\n",
       "      <td>0</td>\n",
       "    </tr>\n",
       "    <tr>\n",
       "      <th>0</th>\n",
       "      <td>7EYKW64FHG</td>\n",
       "      <td>Lead researcher</td>\n",
       "      <td>0</td>\n",
       "    </tr>\n",
       "    <tr>\n",
       "      <th>0</th>\n",
       "      <td>7EYKW64FHG</td>\n",
       "      <td>Lead researcher</td>\n",
       "      <td>0</td>\n",
       "    </tr>\n",
       "  </tbody>\n",
       "</table>\n",
       "<p>83 rows × 3 columns</p>\n",
       "</div>"
      ],
      "text/plain": [
       "        member            title  is_ceo\n",
       "0   7EYKW64FHG  Lead researcher       0\n",
       "0   7EYKW64FHG  Lead researcher       0\n",
       "0   7EYKW64FHG  Lead researcher       0\n",
       "1   O3PUFCVB5K              NaN       0\n",
       "0   7EYKW64FHG  Lead researcher       0\n",
       "1   O3PUFCVB5K              NaN       0\n",
       "1   O3PUFCVB5K              NaN       0\n",
       "0   7EYKW64FHG  Lead researcher       0\n",
       "1   O3PUFCVB5K              NaN       0\n",
       "0   7EYKW64FHG  Lead researcher       0\n",
       "0   7EYKW64FHG  Lead researcher       0\n",
       "0   7EYKW64FHG  Lead researcher       0\n",
       "0   7EYKW64FHG  Lead researcher       0\n",
       "0   7EYKW64FHG  Lead researcher       0\n",
       "0   7EYKW64FHG  Lead researcher       0\n",
       "0   7EYKW64FHG  Lead researcher       0\n",
       "0   7EYKW64FHG  Lead researcher       0\n",
       "1   O3PUFCVB5K              NaN       0\n",
       "0   7EYKW64FHG  Lead researcher       0\n",
       "1   O3PUFCVB5K              NaN       0\n",
       "0   7EYKW64FHG  Lead researcher       0\n",
       "0   7EYKW64FHG  Lead researcher       0\n",
       "0   7EYKW64FHG  Lead researcher       0\n",
       "0   7EYKW64FHG  Lead researcher       0\n",
       "0   7EYKW64FHG  Lead researcher       0\n",
       "0   7EYKW64FHG  Lead researcher       0\n",
       "0   7EYKW64FHG  Lead researcher       0\n",
       "0   7EYKW64FHG  Lead researcher       0\n",
       "1   O3PUFCVB5K              NaN       0\n",
       "0   7EYKW64FHG  Lead researcher       0\n",
       "..         ...              ...     ...\n",
       "0   7EYKW64FHG  Lead researcher       0\n",
       "0   7EYKW64FHG  Lead researcher       0\n",
       "0   7EYKW64FHG  Lead researcher       0\n",
       "0   7EYKW64FHG  Lead researcher       0\n",
       "0   7EYKW64FHG  Lead researcher       0\n",
       "0   7EYKW64FHG  Lead researcher       0\n",
       "0   7EYKW64FHG  Lead researcher       0\n",
       "1   O3PUFCVB5K              NaN       0\n",
       "0   7EYKW64FHG  Lead researcher       0\n",
       "0   7EYKW64FHG  Lead researcher       0\n",
       "0   7EYKW64FHG  Lead researcher       0\n",
       "0   7EYKW64FHG  Lead researcher       0\n",
       "1   O3PUFCVB5K              NaN       0\n",
       "0   7EYKW64FHG  Lead researcher       0\n",
       "1   O3PUFCVB5K              NaN       0\n",
       "0   7EYKW64FHG  Lead researcher       0\n",
       "0   7EYKW64FHG  Lead researcher       0\n",
       "0   7EYKW64FHG  Lead researcher       0\n",
       "0   7EYKW64FHG  Lead researcher       0\n",
       "0   7EYKW64FHG  Lead researcher       0\n",
       "1   O3PUFCVB5K              NaN       0\n",
       "0   7EYKW64FHG  Lead researcher       0\n",
       "0   7EYKW64FHG  Lead researcher       0\n",
       "0   7EYKW64FHG  Lead researcher       0\n",
       "0   7EYKW64FHG  Lead researcher       0\n",
       "0   7EYKW64FHG  Lead researcher       0\n",
       "0   7EYKW64FHG  Lead researcher       0\n",
       "0   7EYKW64FHG  Lead researcher       0\n",
       "0   7EYKW64FHG  Lead researcher       0\n",
       "0   7EYKW64FHG  Lead researcher       0\n",
       "\n",
       "[83 rows x 3 columns]"
      ]
     },
     "execution_count": 53,
     "metadata": {},
     "output_type": "execute_result"
    }
   ],
   "source": [
    "participants_entry_survey_data_clean[['member','title','is_ceo']].query('is_ceo')"
   ]
  },
  {
   "cell_type": "code",
   "execution_count": 54,
   "metadata": {
    "ExecuteTime": {
     "end_time": "2019-01-18T18:21:00.405569Z",
     "start_time": "2019-01-18T18:21:00.371283Z"
    }
   },
   "outputs": [
    {
     "data": {
      "text/html": [
       "<div>\n",
       "<style>\n",
       "    .dataframe thead tr:only-child th {\n",
       "        text-align: right;\n",
       "    }\n",
       "\n",
       "    .dataframe thead th {\n",
       "        text-align: left;\n",
       "    }\n",
       "\n",
       "    .dataframe tbody tr th {\n",
       "        vertical-align: top;\n",
       "    }\n",
       "</style>\n",
       "<table border=\"1\" class=\"dataframe\">\n",
       "  <thead>\n",
       "    <tr style=\"text-align: right;\">\n",
       "      <th></th>\n",
       "      <th>race_other</th>\n",
       "      <th>is_cofounder</th>\n",
       "      <th>HHH_type</th>\n",
       "      <th>time_in_startup</th>\n",
       "      <th>member</th>\n",
       "      <th>experience</th>\n",
       "      <th>title</th>\n",
       "      <th>citizneships</th>\n",
       "      <th>age</th>\n",
       "      <th>race</th>\n",
       "      <th>gender</th>\n",
       "      <th>TIPI_extraversion</th>\n",
       "      <th>TIPI_agreeableness</th>\n",
       "      <th>TIPI_conscientiousness</th>\n",
       "      <th>TIPI_emotional_stability</th>\n",
       "      <th>TIPI_openness</th>\n",
       "      <th>is_ceo</th>\n",
       "    </tr>\n",
       "  </thead>\n",
       "  <tbody>\n",
       "    <tr>\n",
       "      <th>0</th>\n",
       "      <td>NaN</td>\n",
       "      <td>Yes</td>\n",
       "      <td>Hacker (you can solve any technical problem an...</td>\n",
       "      <td>6 months or more</td>\n",
       "      <td>7EYKW64FHG</td>\n",
       "      <td>More than 10 years</td>\n",
       "      <td>Lead researcher</td>\n",
       "      <td>Israel</td>\n",
       "      <td>34 - 37</td>\n",
       "      <td>White</td>\n",
       "      <td>Male</td>\n",
       "      <td>3.0</td>\n",
       "      <td>4.5</td>\n",
       "      <td>7.0</td>\n",
       "      <td>6.0</td>\n",
       "      <td>6.0</td>\n",
       "      <td>0</td>\n",
       "    </tr>\n",
       "    <tr>\n",
       "      <th>1</th>\n",
       "      <td>NaN</td>\n",
       "      <td>No</td>\n",
       "      <td>Hacker (you can solve any technical problem an...</td>\n",
       "      <td>Less than 1 month</td>\n",
       "      <td>O3PUFCVB5K</td>\n",
       "      <td>1-2 years</td>\n",
       "      <td>NaN</td>\n",
       "      <td>United States of America</td>\n",
       "      <td>18 - 21</td>\n",
       "      <td>White</td>\n",
       "      <td>Male</td>\n",
       "      <td>4.0</td>\n",
       "      <td>4.0</td>\n",
       "      <td>6.0</td>\n",
       "      <td>7.0</td>\n",
       "      <td>5.0</td>\n",
       "      <td>0</td>\n",
       "    </tr>\n",
       "    <tr>\n",
       "      <th>2</th>\n",
       "      <td>NaN</td>\n",
       "      <td>Yes</td>\n",
       "      <td>Hipster (you are a creative design genius who ...</td>\n",
       "      <td>6 months or more</td>\n",
       "      <td>XN8V5Z8X50</td>\n",
       "      <td>3-4 years</td>\n",
       "      <td>Chief Product Officer</td>\n",
       "      <td>United States of America</td>\n",
       "      <td>26 - 29</td>\n",
       "      <td>White</td>\n",
       "      <td>Female</td>\n",
       "      <td>6.0</td>\n",
       "      <td>4.5</td>\n",
       "      <td>6.5</td>\n",
       "      <td>5.5</td>\n",
       "      <td>6.5</td>\n",
       "      <td>0</td>\n",
       "    </tr>\n",
       "    <tr>\n",
       "      <th>3</th>\n",
       "      <td>NaN</td>\n",
       "      <td>Yes</td>\n",
       "      <td>Hustler (you are the one who closes deals and ...</td>\n",
       "      <td>6 months or more</td>\n",
       "      <td>3ZH34TXI1T</td>\n",
       "      <td>5-6 years</td>\n",
       "      <td>Co-Founder and CEO</td>\n",
       "      <td>Germany,United States of America</td>\n",
       "      <td>26 - 29</td>\n",
       "      <td>White</td>\n",
       "      <td>Female</td>\n",
       "      <td>3.5</td>\n",
       "      <td>6.0</td>\n",
       "      <td>5.5</td>\n",
       "      <td>6.5</td>\n",
       "      <td>6.0</td>\n",
       "      <td>1</td>\n",
       "    </tr>\n",
       "    <tr>\n",
       "      <th>4</th>\n",
       "      <td>NaN</td>\n",
       "      <td>It's complicated (explain)</td>\n",
       "      <td>Hipster (you are a creative design genius who ...</td>\n",
       "      <td>1-3 months</td>\n",
       "      <td>4OUW6RT5BH</td>\n",
       "      <td>More than 10 years</td>\n",
       "      <td>NaN</td>\n",
       "      <td>United States of America</td>\n",
       "      <td>34 - 37</td>\n",
       "      <td>Asian</td>\n",
       "      <td>Female</td>\n",
       "      <td>6.0</td>\n",
       "      <td>4.5</td>\n",
       "      <td>6.5</td>\n",
       "      <td>6.5</td>\n",
       "      <td>7.0</td>\n",
       "      <td>0</td>\n",
       "    </tr>\n",
       "  </tbody>\n",
       "</table>\n",
       "</div>"
      ],
      "text/plain": [
       "  race_other                is_cofounder  \\\n",
       "0        NaN                         Yes   \n",
       "1        NaN                          No   \n",
       "2        NaN                         Yes   \n",
       "3        NaN                         Yes   \n",
       "4        NaN  It's complicated (explain)   \n",
       "\n",
       "                                            HHH_type    time_in_startup  \\\n",
       "0  Hacker (you can solve any technical problem an...   6 months or more   \n",
       "1  Hacker (you can solve any technical problem an...  Less than 1 month   \n",
       "2  Hipster (you are a creative design genius who ...   6 months or more   \n",
       "3  Hustler (you are the one who closes deals and ...   6 months or more   \n",
       "4  Hipster (you are a creative design genius who ...         1-3 months   \n",
       "\n",
       "       member          experience                  title  \\\n",
       "0  7EYKW64FHG  More than 10 years        Lead researcher   \n",
       "1  O3PUFCVB5K           1-2 years                    NaN   \n",
       "2  XN8V5Z8X50           3-4 years  Chief Product Officer   \n",
       "3  3ZH34TXI1T           5-6 years    Co-Founder and CEO    \n",
       "4  4OUW6RT5BH  More than 10 years                    NaN   \n",
       "\n",
       "                       citizneships      age    race  gender  \\\n",
       "0                            Israel  34 - 37  White     Male   \n",
       "1          United States of America  18 - 21  White     Male   \n",
       "2          United States of America  26 - 29  White   Female   \n",
       "3  Germany,United States of America  26 - 29  White   Female   \n",
       "4          United States of America  34 - 37  Asian   Female   \n",
       "\n",
       "   TIPI_extraversion  TIPI_agreeableness  TIPI_conscientiousness  \\\n",
       "0                3.0                 4.5                     7.0   \n",
       "1                4.0                 4.0                     6.0   \n",
       "2                6.0                 4.5                     6.5   \n",
       "3                3.5                 6.0                     5.5   \n",
       "4                6.0                 4.5                     6.5   \n",
       "\n",
       "   TIPI_emotional_stability  TIPI_openness  is_ceo  \n",
       "0                       6.0            6.0       0  \n",
       "1                       7.0            5.0       0  \n",
       "2                       5.5            6.5       0  \n",
       "3                       6.5            6.0       1  \n",
       "4                       6.5            7.0       0  "
      ]
     },
     "execution_count": 54,
     "metadata": {},
     "output_type": "execute_result"
    }
   ],
   "source": [
    "participants_entry_survey_data_clean.head()"
   ]
  },
  {
   "cell_type": "markdown",
   "metadata": {},
   "source": [
    "## Is co-founder"
   ]
  },
  {
   "cell_type": "code",
   "execution_count": 55,
   "metadata": {
    "ExecuteTime": {
     "end_time": "2019-01-18T18:21:03.270597Z",
     "start_time": "2019-01-18T18:21:03.247166Z"
    }
   },
   "outputs": [
    {
     "name": "stdout",
     "output_type": "stream",
     "text": [
      "50\n",
      "49\n"
     ]
    }
   ],
   "source": [
    "# Set for 'Yes and maybe'\n",
    "participants_entry_survey_data_clean['is_cofounder_temp'] = 0\n",
    "cond = (participants_entry_survey_data_clean.is_cofounder != 'No')\n",
    "participants_entry_survey_data_clean.loc[cond,'is_cofounder_temp'] = 1\n",
    "print(len(participants_entry_survey_data_clean.query('is_cofounder_temp == 1')))\n",
    "\n",
    "# Manually fix\n",
    "cond = (participants_entry_survey_data_clean.member == 'XLIPIHEOIT')\n",
    "participants_entry_survey_data_clean.loc[cond,'is_cofounder_temp'] = 0\n",
    "print(len(participants_entry_survey_data_clean.query('is_cofounder_temp == 1')))"
   ]
  },
  {
   "cell_type": "code",
   "execution_count": 56,
   "metadata": {
    "ExecuteTime": {
     "end_time": "2019-01-18T18:21:03.588006Z",
     "start_time": "2019-01-18T18:21:03.582012Z"
    }
   },
   "outputs": [],
   "source": [
    "participants_entry_survey_data_clean['is_cofounder'] = participants_entry_survey_data_clean['is_cofounder_temp']\n",
    "del participants_entry_survey_data_clean['is_cofounder_temp']"
   ]
  },
  {
   "cell_type": "markdown",
   "metadata": {},
   "source": [
    "## HHH"
   ]
  },
  {
   "cell_type": "code",
   "execution_count": 57,
   "metadata": {
    "ExecuteTime": {
     "end_time": "2019-01-18T18:21:04.870246Z",
     "start_time": "2019-01-18T18:21:04.860593Z"
    }
   },
   "outputs": [
    {
     "data": {
      "text/plain": [
       "Hacker (you can solve any technical problem and make anything work)                 35\n",
       "Hustler (you are the one who closes deals and brings back the money)                32\n",
       "Hipster (you are a creative design genius who makes the user experience awesome)    16\n",
       "Name: HHH_type, dtype: int64"
      ]
     },
     "execution_count": 57,
     "metadata": {},
     "output_type": "execute_result"
    }
   ],
   "source": [
    "participants_entry_survey_data_clean.HHH_type.value_counts()"
   ]
  },
  {
   "cell_type": "code",
   "execution_count": 58,
   "metadata": {
    "ExecuteTime": {
     "end_time": "2019-01-18T18:21:05.074420Z",
     "start_time": "2019-01-18T18:21:05.068031Z"
    }
   },
   "outputs": [],
   "source": [
    "def HHH_Translation(answer):\n",
    "    \"\"\"\n",
    "    \"\"\"\n",
    "    if answer == 'Hacker (you can solve any technical problem and make anything work)':\n",
    "        return('Hacker')\n",
    "    if answer == 'Hustler (you are the one who closes deals and brings back the money)':\n",
    "        return('Hustler')\n",
    "    if answer == 'Hipster (you are a creative design genius who makes the user experience awesome)':\n",
    "        return('Hispster')\n",
    "    return answer"
   ]
  },
  {
   "cell_type": "code",
   "execution_count": 59,
   "metadata": {
    "ExecuteTime": {
     "end_time": "2019-01-18T18:21:06.022960Z",
     "start_time": "2019-01-18T18:21:06.017605Z"
    }
   },
   "outputs": [],
   "source": [
    "participants_entry_survey_data_clean['HHH_type'] = participants_entry_survey_data_clean['HHH_type'].apply(HHH_Translation)  "
   ]
  },
  {
   "cell_type": "code",
   "execution_count": 60,
   "metadata": {
    "ExecuteTime": {
     "end_time": "2019-01-18T18:21:06.307752Z",
     "start_time": "2019-01-18T18:21:06.297842Z"
    }
   },
   "outputs": [
    {
     "data": {
      "text/plain": [
       "Hacker      35\n",
       "Hustler     32\n",
       "Hispster    16\n",
       "Name: HHH_type, dtype: int64"
      ]
     },
     "execution_count": 60,
     "metadata": {},
     "output_type": "execute_result"
    }
   ],
   "source": [
    "participants_entry_survey_data_clean.HHH_type.value_counts()"
   ]
  },
  {
   "cell_type": "code",
   "execution_count": 61,
   "metadata": {
    "ExecuteTime": {
     "end_time": "2019-01-18T18:21:06.641825Z",
     "start_time": "2019-01-18T18:21:06.608282Z"
    }
   },
   "outputs": [
    {
     "data": {
      "text/html": [
       "<div>\n",
       "<style>\n",
       "    .dataframe thead tr:only-child th {\n",
       "        text-align: right;\n",
       "    }\n",
       "\n",
       "    .dataframe thead th {\n",
       "        text-align: left;\n",
       "    }\n",
       "\n",
       "    .dataframe tbody tr th {\n",
       "        vertical-align: top;\n",
       "    }\n",
       "</style>\n",
       "<table border=\"1\" class=\"dataframe\">\n",
       "  <thead>\n",
       "    <tr style=\"text-align: right;\">\n",
       "      <th></th>\n",
       "      <th>race_other</th>\n",
       "      <th>is_cofounder</th>\n",
       "      <th>HHH_type</th>\n",
       "      <th>time_in_startup</th>\n",
       "      <th>member</th>\n",
       "      <th>experience</th>\n",
       "      <th>title</th>\n",
       "      <th>citizneships</th>\n",
       "      <th>age</th>\n",
       "      <th>race</th>\n",
       "      <th>gender</th>\n",
       "      <th>TIPI_extraversion</th>\n",
       "      <th>TIPI_agreeableness</th>\n",
       "      <th>TIPI_conscientiousness</th>\n",
       "      <th>TIPI_emotional_stability</th>\n",
       "      <th>TIPI_openness</th>\n",
       "      <th>is_ceo</th>\n",
       "    </tr>\n",
       "  </thead>\n",
       "  <tbody>\n",
       "    <tr>\n",
       "      <th>0</th>\n",
       "      <td>NaN</td>\n",
       "      <td>1</td>\n",
       "      <td>Hacker</td>\n",
       "      <td>6 months or more</td>\n",
       "      <td>7EYKW64FHG</td>\n",
       "      <td>More than 10 years</td>\n",
       "      <td>Lead researcher</td>\n",
       "      <td>Israel</td>\n",
       "      <td>34 - 37</td>\n",
       "      <td>White</td>\n",
       "      <td>Male</td>\n",
       "      <td>3.0</td>\n",
       "      <td>4.5</td>\n",
       "      <td>7.0</td>\n",
       "      <td>6.0</td>\n",
       "      <td>6.0</td>\n",
       "      <td>0</td>\n",
       "    </tr>\n",
       "    <tr>\n",
       "      <th>1</th>\n",
       "      <td>NaN</td>\n",
       "      <td>0</td>\n",
       "      <td>Hacker</td>\n",
       "      <td>Less than 1 month</td>\n",
       "      <td>O3PUFCVB5K</td>\n",
       "      <td>1-2 years</td>\n",
       "      <td>NaN</td>\n",
       "      <td>United States of America</td>\n",
       "      <td>18 - 21</td>\n",
       "      <td>White</td>\n",
       "      <td>Male</td>\n",
       "      <td>4.0</td>\n",
       "      <td>4.0</td>\n",
       "      <td>6.0</td>\n",
       "      <td>7.0</td>\n",
       "      <td>5.0</td>\n",
       "      <td>0</td>\n",
       "    </tr>\n",
       "    <tr>\n",
       "      <th>2</th>\n",
       "      <td>NaN</td>\n",
       "      <td>1</td>\n",
       "      <td>Hispster</td>\n",
       "      <td>6 months or more</td>\n",
       "      <td>XN8V5Z8X50</td>\n",
       "      <td>3-4 years</td>\n",
       "      <td>Chief Product Officer</td>\n",
       "      <td>United States of America</td>\n",
       "      <td>26 - 29</td>\n",
       "      <td>White</td>\n",
       "      <td>Female</td>\n",
       "      <td>6.0</td>\n",
       "      <td>4.5</td>\n",
       "      <td>6.5</td>\n",
       "      <td>5.5</td>\n",
       "      <td>6.5</td>\n",
       "      <td>0</td>\n",
       "    </tr>\n",
       "    <tr>\n",
       "      <th>3</th>\n",
       "      <td>NaN</td>\n",
       "      <td>1</td>\n",
       "      <td>Hustler</td>\n",
       "      <td>6 months or more</td>\n",
       "      <td>3ZH34TXI1T</td>\n",
       "      <td>5-6 years</td>\n",
       "      <td>Co-Founder and CEO</td>\n",
       "      <td>Germany,United States of America</td>\n",
       "      <td>26 - 29</td>\n",
       "      <td>White</td>\n",
       "      <td>Female</td>\n",
       "      <td>3.5</td>\n",
       "      <td>6.0</td>\n",
       "      <td>5.5</td>\n",
       "      <td>6.5</td>\n",
       "      <td>6.0</td>\n",
       "      <td>1</td>\n",
       "    </tr>\n",
       "    <tr>\n",
       "      <th>4</th>\n",
       "      <td>NaN</td>\n",
       "      <td>1</td>\n",
       "      <td>Hispster</td>\n",
       "      <td>1-3 months</td>\n",
       "      <td>4OUW6RT5BH</td>\n",
       "      <td>More than 10 years</td>\n",
       "      <td>NaN</td>\n",
       "      <td>United States of America</td>\n",
       "      <td>34 - 37</td>\n",
       "      <td>Asian</td>\n",
       "      <td>Female</td>\n",
       "      <td>6.0</td>\n",
       "      <td>4.5</td>\n",
       "      <td>6.5</td>\n",
       "      <td>6.5</td>\n",
       "      <td>7.0</td>\n",
       "      <td>0</td>\n",
       "    </tr>\n",
       "  </tbody>\n",
       "</table>\n",
       "</div>"
      ],
      "text/plain": [
       "  race_other  is_cofounder  HHH_type    time_in_startup      member  \\\n",
       "0        NaN             1    Hacker   6 months or more  7EYKW64FHG   \n",
       "1        NaN             0    Hacker  Less than 1 month  O3PUFCVB5K   \n",
       "2        NaN             1  Hispster   6 months or more  XN8V5Z8X50   \n",
       "3        NaN             1   Hustler   6 months or more  3ZH34TXI1T   \n",
       "4        NaN             1  Hispster         1-3 months  4OUW6RT5BH   \n",
       "\n",
       "           experience                  title  \\\n",
       "0  More than 10 years        Lead researcher   \n",
       "1           1-2 years                    NaN   \n",
       "2           3-4 years  Chief Product Officer   \n",
       "3           5-6 years    Co-Founder and CEO    \n",
       "4  More than 10 years                    NaN   \n",
       "\n",
       "                       citizneships      age    race  gender  \\\n",
       "0                            Israel  34 - 37  White     Male   \n",
       "1          United States of America  18 - 21  White     Male   \n",
       "2          United States of America  26 - 29  White   Female   \n",
       "3  Germany,United States of America  26 - 29  White   Female   \n",
       "4          United States of America  34 - 37  Asian   Female   \n",
       "\n",
       "   TIPI_extraversion  TIPI_agreeableness  TIPI_conscientiousness  \\\n",
       "0                3.0                 4.5                     7.0   \n",
       "1                4.0                 4.0                     6.0   \n",
       "2                6.0                 4.5                     6.5   \n",
       "3                3.5                 6.0                     5.5   \n",
       "4                6.0                 4.5                     6.5   \n",
       "\n",
       "   TIPI_emotional_stability  TIPI_openness  is_ceo  \n",
       "0                       6.0            6.0       0  \n",
       "1                       7.0            5.0       0  \n",
       "2                       5.5            6.5       0  \n",
       "3                       6.5            6.0       1  \n",
       "4                       6.5            7.0       0  "
      ]
     },
     "execution_count": 61,
     "metadata": {},
     "output_type": "execute_result"
    }
   ],
   "source": [
    "participants_entry_survey_data_clean.head()"
   ]
  },
  {
   "cell_type": "markdown",
   "metadata": {},
   "source": [
    "## Gender"
   ]
  },
  {
   "cell_type": "code",
   "execution_count": 62,
   "metadata": {
    "ExecuteTime": {
     "end_time": "2019-01-18T18:21:10.178637Z",
     "start_time": "2019-01-18T18:21:10.170999Z"
    }
   },
   "outputs": [],
   "source": [
    "def gender_Translation(answer):\n",
    "    \"\"\"\n",
    "    \"\"\"\n",
    "    if answer == 'Male':\n",
    "        return('M')\n",
    "    if answer == 'Female':\n",
    "        return('F')\n",
    "    else:\n",
    "        return('U')\n",
    "    return answer\n",
    "\n",
    "participants_entry_survey_data_clean['gender'] = participants_entry_survey_data_clean['gender'].apply(gender_Translation)  "
   ]
  },
  {
   "cell_type": "code",
   "execution_count": 69,
   "metadata": {
    "ExecuteTime": {
     "end_time": "2019-01-18T18:22:55.629896Z",
     "start_time": "2019-01-18T18:22:55.614375Z"
    }
   },
   "outputs": [
    {
     "data": {
      "text/plain": [
       "M    52\n",
       "F    31\n",
       "Name: gender, dtype: int64"
      ]
     },
     "execution_count": 69,
     "metadata": {},
     "output_type": "execute_result"
    }
   ],
   "source": [
    "#participants_entry_survey_data_clean.query('gender == \"U\"')\n",
    "#participants_entry_survey_data_clean.loc['UAXR5EMOI2','gender']='M'\n",
    "\n",
    "participants_entry_survey_data_clean.loc[participants_entry_survey_data_clean.member =='UAXR5EMOI2','gender']='M'\n",
    "participants_entry_survey_data_clean.gender.value_counts()"
   ]
  },
  {
   "cell_type": "markdown",
   "metadata": {},
   "source": [
    "# tests"
   ]
  },
  {
   "cell_type": "code",
   "execution_count": 70,
   "metadata": {
    "ExecuteTime": {
     "end_time": "2019-01-18T18:22:56.961903Z",
     "start_time": "2019-01-18T18:22:56.952490Z"
    }
   },
   "outputs": [
    {
     "data": {
      "text/plain": [
       "race_other                   object\n",
       "is_cofounder                  int64\n",
       "HHH_type                     object\n",
       "time_in_startup              object\n",
       "member                       object\n",
       "experience                   object\n",
       "title                        object\n",
       "citizneships                 object\n",
       "age                          object\n",
       "race                         object\n",
       "gender                       object\n",
       "TIPI_extraversion           float64\n",
       "TIPI_agreeableness          float64\n",
       "TIPI_conscientiousness      float64\n",
       "TIPI_emotional_stability    float64\n",
       "TIPI_openness               float64\n",
       "is_ceo                        int64\n",
       "dtype: object"
      ]
     },
     "execution_count": 70,
     "metadata": {},
     "output_type": "execute_result"
    }
   ],
   "source": [
    "participants_entry_survey_data_clean.dtypes"
   ]
  },
  {
   "cell_type": "code",
   "execution_count": 71,
   "metadata": {
    "ExecuteTime": {
     "end_time": "2019-01-18T18:22:58.046113Z",
     "start_time": "2019-01-18T18:22:58.036393Z"
    }
   },
   "outputs": [
    {
     "data": {
      "text/plain": [
       "Hacker      35\n",
       "Hustler     32\n",
       "Hispster    16\n",
       "Name: HHH_type, dtype: int64"
      ]
     },
     "execution_count": 71,
     "metadata": {},
     "output_type": "execute_result"
    }
   ],
   "source": [
    "participants_entry_survey_data_clean.HHH_type.value_counts()"
   ]
  },
  {
   "cell_type": "code",
   "execution_count": 72,
   "metadata": {
    "ExecuteTime": {
     "end_time": "2019-01-18T18:22:59.379988Z",
     "start_time": "2019-01-18T18:22:59.181673Z"
    }
   },
   "outputs": [
    {
     "data": {
      "text/plain": [
       "<matplotlib.axes._subplots.AxesSubplot at 0x7f3b16fb6b90>"
      ]
     },
     "execution_count": 72,
     "metadata": {},
     "output_type": "execute_result"
    },
    {
     "data": {
      "image/png": "[encoded data removed]",
      "text/plain": [
       "<Figure size 432x288 with 1 Axes>"
      ]
     },
     "metadata": {
      "needs_background": "light"
     },
     "output_type": "display_data"
    }
   ],
   "source": [
    "participants_entry_survey_data_clean.TIPI_extraversion.hist()"
   ]
  },
  {
   "cell_type": "code",
   "execution_count": 73,
   "metadata": {
    "ExecuteTime": {
     "end_time": "2019-01-18T18:22:59.766718Z",
     "start_time": "2019-01-18T18:22:59.574233Z"
    }
   },
   "outputs": [
    {
     "data": {
      "text/plain": [
       "<matplotlib.axes._subplots.AxesSubplot at 0x7f3b16e95d50>"
      ]
     },
     "execution_count": 73,
     "metadata": {},
     "output_type": "execute_result"
    },
    {
     "data": {
      "image/png": "[encoded data removed]",
      "text/plain": [
       "<Figure size 432x288 with 1 Axes>"
      ]
     },
     "metadata": {
      "needs_background": "light"
     },
     "output_type": "display_data"
    }
   ],
   "source": [
    "participants_entry_survey_data_clean.TIPI_agreeableness.hist()"
   ]
  },
  {
   "cell_type": "code",
   "execution_count": 74,
   "metadata": {
    "ExecuteTime": {
     "end_time": "2019-01-18T18:23:00.324771Z",
     "start_time": "2019-01-18T18:23:00.112010Z"
    }
   },
   "outputs": [
    {
     "data": {
      "text/plain": [
       "<matplotlib.axes._subplots.AxesSubplot at 0x7f3b1715fb10>"
      ]
     },
     "execution_count": 74,
     "metadata": {},
     "output_type": "execute_result"
    },
    {
     "data": {
      "image/png": "[encoded data removed]",
      "text/plain": [
       "<Figure size 432x288 with 1 Axes>"
      ]
     },
     "metadata": {
      "needs_background": "light"
     },
     "output_type": "display_data"
    }
   ],
   "source": [
    "participants_entry_survey_data_clean.TIPI_openness.hist()"
   ]
  },
  {
   "cell_type": "markdown",
   "metadata": {},
   "source": [
    "# Store"
   ]
  },
  {
   "cell_type": "code",
   "execution_count": 75,
   "metadata": {
    "ExecuteTime": {
     "end_time": "2019-01-18T18:23:02.093000Z",
     "start_time": "2019-01-18T18:23:02.087734Z"
    }
   },
   "outputs": [],
   "source": [
    "participants_entry_survey_data_clean.set_index('member', inplace=True)"
   ]
  },
  {
   "cell_type": "code",
   "execution_count": 76,
   "metadata": {
    "ExecuteTime": {
     "end_time": "2019-01-18T18:23:02.992565Z",
     "start_time": "2019-01-18T18:23:02.965288Z"
    }
   },
   "outputs": [],
   "source": [
    "with pd.HDFStore(surveys_clean_store_path) as store:\n",
    "    store.put('entry/participants_entry_survey_data_clean', participants_entry_survey_data_clean, format='table')\n"
   ]
  },
  {
   "cell_type": "markdown",
   "metadata": {},
   "source": [
    "# Sainty check"
   ]
  },
  {
   "cell_type": "code",
   "execution_count": 77,
   "metadata": {
    "ExecuteTime": {
     "end_time": "2019-01-18T18:23:07.501970Z",
     "start_time": "2019-01-18T18:23:07.106702Z"
    }
   },
   "outputs": [
    {
     "data": {
      "text/html": [
       "<div>\n",
       "<style>\n",
       "    .dataframe thead tr:only-child th {\n",
       "        text-align: right;\n",
       "    }\n",
       "\n",
       "    .dataframe thead th {\n",
       "        text-align: left;\n",
       "    }\n",
       "\n",
       "    .dataframe tbody tr th {\n",
       "        vertical-align: top;\n",
       "    }\n",
       "</style>\n",
       "<table border=\"1\" class=\"dataframe\">\n",
       "  <thead>\n",
       "    <tr style=\"text-align: right;\">\n",
       "      <th></th>\n",
       "      <th>company</th>\n",
       "      <th>member_id</th>\n",
       "      <th>participates</th>\n",
       "      <th>RecipientID</th>\n",
       "      <th>start_date_ts</th>\n",
       "      <th>end_date_ts</th>\n",
       "    </tr>\n",
       "    <tr>\n",
       "      <th>member</th>\n",
       "      <th></th>\n",
       "      <th></th>\n",
       "      <th></th>\n",
       "      <th></th>\n",
       "      <th></th>\n",
       "      <th></th>\n",
       "    </tr>\n",
       "  </thead>\n",
       "  <tbody>\n",
       "    <tr>\n",
       "      <th>1BFLH7NZGE</th>\n",
       "      <td>Company B</td>\n",
       "      <td>535</td>\n",
       "      <td>1</td>\n",
       "      <td>MLRP_0vcgVNdOY7vpB7D</td>\n",
       "      <td>2018-06-12 00:00:00-04:00</td>\n",
       "      <td>2018-08-15 23:59:59-04:00</td>\n",
       "    </tr>\n",
       "    <tr>\n",
       "      <th>WLA510JNBN</th>\n",
       "      <td>Company B</td>\n",
       "      <td>537</td>\n",
       "      <td>1</td>\n",
       "      <td>MLRP_74oJw6drZeVi02V</td>\n",
       "      <td>2018-06-19 00:00:00-04:00</td>\n",
       "      <td>2018-08-15 23:59:59-04:00</td>\n",
       "    </tr>\n",
       "    <tr>\n",
       "      <th>76B60URM93</th>\n",
       "      <td>Company B</td>\n",
       "      <td>730</td>\n",
       "      <td>1</td>\n",
       "      <td>MLRP_8Cx2w4pmTcBCFUx</td>\n",
       "      <td>2018-06-18 00:00:00-04:00</td>\n",
       "      <td>2018-07-15 23:59:59-04:00</td>\n",
       "    </tr>\n",
       "    <tr>\n",
       "      <th>P95P5A6IP2</th>\n",
       "      <td>Company B</td>\n",
       "      <td>536</td>\n",
       "      <td>1</td>\n",
       "      <td>MLRP_5j3Rlvkq0RYG7s1</td>\n",
       "      <td>2018-06-13 00:00:00-04:00</td>\n",
       "      <td>2018-08-15 23:59:59-04:00</td>\n",
       "    </tr>\n",
       "    <tr>\n",
       "      <th>MKC03RM7T5</th>\n",
       "      <td>Company N</td>\n",
       "      <td>541</td>\n",
       "      <td>1</td>\n",
       "      <td>MLRP_38gd2aldS3XcP89</td>\n",
       "      <td>2018-06-12 00:00:00-04:00</td>\n",
       "      <td>2018-07-15 23:59:59-04:00</td>\n",
       "    </tr>\n",
       "  </tbody>\n",
       "</table>\n",
       "</div>"
      ],
      "text/plain": [
       "              company  member_id  participates           RecipientID  \\\n",
       "member                                                                 \n",
       "1BFLH7NZGE  Company B        535             1  MLRP_0vcgVNdOY7vpB7D   \n",
       "WLA510JNBN  Company B        537             1  MLRP_74oJw6drZeVi02V   \n",
       "76B60URM93  Company B        730             1  MLRP_8Cx2w4pmTcBCFUx   \n",
       "P95P5A6IP2  Company B        536             1  MLRP_5j3Rlvkq0RYG7s1   \n",
       "MKC03RM7T5  Company N        541             1  MLRP_38gd2aldS3XcP89   \n",
       "\n",
       "                       start_date_ts               end_date_ts  \n",
       "member                                                          \n",
       "1BFLH7NZGE 2018-06-12 00:00:00-04:00 2018-08-15 23:59:59-04:00  \n",
       "WLA510JNBN 2018-06-19 00:00:00-04:00 2018-08-15 23:59:59-04:00  \n",
       "76B60URM93 2018-06-18 00:00:00-04:00 2018-07-15 23:59:59-04:00  \n",
       "P95P5A6IP2 2018-06-13 00:00:00-04:00 2018-08-15 23:59:59-04:00  \n",
       "MKC03RM7T5 2018-06-12 00:00:00-04:00 2018-07-15 23:59:59-04:00  "
      ]
     },
     "execution_count": 77,
     "metadata": {},
     "output_type": "execute_result"
    }
   ],
   "source": [
    "members = pd.read_hdf(analysis_store_path, 'metadata/members')\n",
    "members.head()"
   ]
  },
  {
   "cell_type": "code",
   "execution_count": 78,
   "metadata": {
    "ExecuteTime": {
     "end_time": "2019-01-18T18:23:08.247907Z",
     "start_time": "2019-01-18T18:23:08.239944Z"
    }
   },
   "outputs": [],
   "source": [
    "a = participants_entry_survey_data_clean.join(members)"
   ]
  },
  {
   "cell_type": "code",
   "execution_count": 79,
   "metadata": {
    "ExecuteTime": {
     "end_time": "2019-01-18T18:23:09.081941Z",
     "start_time": "2019-01-18T18:23:09.060466Z"
    }
   },
   "outputs": [
    {
     "data": {
      "text/html": [
       "<div>\n",
       "<style>\n",
       "    .dataframe thead tr:only-child th {\n",
       "        text-align: right;\n",
       "    }\n",
       "\n",
       "    .dataframe thead th {\n",
       "        text-align: left;\n",
       "    }\n",
       "\n",
       "    .dataframe tbody tr th {\n",
       "        vertical-align: top;\n",
       "    }\n",
       "</style>\n",
       "<table border=\"1\" class=\"dataframe\">\n",
       "  <thead>\n",
       "    <tr style=\"text-align: right;\">\n",
       "      <th></th>\n",
       "      <th>company</th>\n",
       "    </tr>\n",
       "    <tr>\n",
       "      <th>member</th>\n",
       "      <th></th>\n",
       "    </tr>\n",
       "  </thead>\n",
       "  <tbody>\n",
       "    <tr>\n",
       "      <th>RCDMRUYLXV</th>\n",
       "      <td>Company A</td>\n",
       "    </tr>\n",
       "    <tr>\n",
       "      <th>1BFLH7NZGE</th>\n",
       "      <td>Company B</td>\n",
       "    </tr>\n",
       "    <tr>\n",
       "      <th>BJDUVA71EG</th>\n",
       "      <td>Company C</td>\n",
       "    </tr>\n",
       "    <tr>\n",
       "      <th>JQQL28GOU8</th>\n",
       "      <td>Company D</td>\n",
       "    </tr>\n",
       "    <tr>\n",
       "      <th>29307MUU73</th>\n",
       "      <td>Company E</td>\n",
       "    </tr>\n",
       "    <tr>\n",
       "      <th>3ZH34TXI1T</th>\n",
       "      <td>Company F</td>\n",
       "    </tr>\n",
       "    <tr>\n",
       "      <th>V5PTY0NHS2</th>\n",
       "      <td>Company G</td>\n",
       "    </tr>\n",
       "    <tr>\n",
       "      <th>PT59TRESGV</th>\n",
       "      <td>Company H</td>\n",
       "    </tr>\n",
       "    <tr>\n",
       "      <th>NSBU2JEYQB</th>\n",
       "      <td>Company I</td>\n",
       "    </tr>\n",
       "    <tr>\n",
       "      <th>UCEC6YGTN9</th>\n",
       "      <td>Company J</td>\n",
       "    </tr>\n",
       "    <tr>\n",
       "      <th>JCYW1JREU3</th>\n",
       "      <td>Company K</td>\n",
       "    </tr>\n",
       "    <tr>\n",
       "      <th>Q0748HDQT8</th>\n",
       "      <td>Company L</td>\n",
       "    </tr>\n",
       "    <tr>\n",
       "      <th>QNUHEZKWD6</th>\n",
       "      <td>Company M</td>\n",
       "    </tr>\n",
       "    <tr>\n",
       "      <th>7ZB69MC43U</th>\n",
       "      <td>Company M</td>\n",
       "    </tr>\n",
       "    <tr>\n",
       "      <th>GXJW1J632F</th>\n",
       "      <td>Company N</td>\n",
       "    </tr>\n",
       "    <tr>\n",
       "      <th>89NPFTCD3I</th>\n",
       "      <td>Company O</td>\n",
       "    </tr>\n",
       "    <tr>\n",
       "      <th>L0OPFOFDCF</th>\n",
       "      <td>Company P</td>\n",
       "    </tr>\n",
       "    <tr>\n",
       "      <th>F89QJBLUET</th>\n",
       "      <td>Company Q</td>\n",
       "    </tr>\n",
       "    <tr>\n",
       "      <th>SYJJAM80HD</th>\n",
       "      <td>Company R</td>\n",
       "    </tr>\n",
       "    <tr>\n",
       "      <th>0QOCAUAVFI</th>\n",
       "      <td>Company S</td>\n",
       "    </tr>\n",
       "  </tbody>\n",
       "</table>\n",
       "</div>"
      ],
      "text/plain": [
       "              company\n",
       "member               \n",
       "RCDMRUYLXV  Company A\n",
       "1BFLH7NZGE  Company B\n",
       "BJDUVA71EG  Company C\n",
       "JQQL28GOU8  Company D\n",
       "29307MUU73  Company E\n",
       "3ZH34TXI1T  Company F\n",
       "V5PTY0NHS2  Company G\n",
       "PT59TRESGV  Company H\n",
       "NSBU2JEYQB  Company I\n",
       "UCEC6YGTN9  Company J\n",
       "JCYW1JREU3  Company K\n",
       "Q0748HDQT8  Company L\n",
       "QNUHEZKWD6  Company M\n",
       "7ZB69MC43U  Company M\n",
       "GXJW1J632F  Company N\n",
       "89NPFTCD3I  Company O\n",
       "L0OPFOFDCF  Company P\n",
       "F89QJBLUET  Company Q\n",
       "SYJJAM80HD  Company R\n",
       "0QOCAUAVFI  Company S"
      ]
     },
     "execution_count": 79,
     "metadata": {},
     "output_type": "execute_result"
    }
   ],
   "source": [
    "a.query('is_ceo == 1')[['company']].sort_values('company')"
   ]
  },
  {
   "cell_type": "code",
   "execution_count": null,
   "metadata": {},
   "outputs": [],
   "source": []
  }
 ],
 "metadata": {
  "kernelspec": {
   "display_name": "Python 2",
   "language": "python",
   "name": "python2"
  },
  "language_info": {
   "codemirror_mode": {
    "name": "ipython",
    "version": 2
   },
   "file_extension": ".py",
   "mimetype": "text/x-python",
   "name": "python",
   "nbconvert_exporter": "python",
   "pygments_lexer": "ipython2",
   "version": "2.7.15"
  },
  "toc": {
   "base_numbering": 1,
   "nav_menu": {},
   "number_sections": true,
   "sideBar": true,
   "skip_h1_title": false,
   "title_cell": "Table of Contents",
   "title_sidebar": "Contents",
   "toc_cell": false,
   "toc_position": {
    "height": "calc(100% - 180px)",
    "left": "10px",
    "top": "150px",
    "width": "370.594px"
   },
   "toc_section_display": true,
   "toc_window_display": true
  }
 },
 "nbformat": 4,
 "nbformat_minor": 2
}
